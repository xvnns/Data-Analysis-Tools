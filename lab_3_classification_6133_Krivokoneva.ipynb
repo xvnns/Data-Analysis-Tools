{
  "nbformat": 4,
  "nbformat_minor": 0,
  "metadata": {
    "colab": {
      "name": "lab_3_classification_6133_Krivokoneva",
      "provenance": [],
      "collapsed_sections": []
    },
    "kernelspec": {
      "name": "python3",
      "display_name": "Python 3"
    },
    "language_info": {
      "name": "python"
    }
  },
  "cells": [
    {
      "cell_type": "markdown",
      "source": [
        "# Лабораторная работа 3\n",
        "Классификация в sklearn. Метрики классификации\n",
        "\n",
        "Выполнила: Кривоконева Екатерина, группа 6133"
      ],
      "metadata": {
        "id": "qeCvqgxP_ik6"
      }
    },
    {
      "cell_type": "code",
      "source": [
        "import pandas as pd\n",
        "pd.set_option('display.max_columns', None)\n",
        "import numpy as np\n",
        "import matplotlib.pyplot as plt\n",
        "import seaborn as sns \n",
        "\n",
        "from sklearn.model_selection import StratifiedKFold\n",
        "from sklearn.model_selection import GridSearchCV\n",
        "from sklearn.model_selection import train_test_split\n",
        "from sklearn.metrics import classification_report\n",
        "from sklearn.metrics import confusion_matrix\n",
        "from sklearn.tree import DecisionTreeClassifier\n",
        "from sklearn.model_selection import cross_val_score\n",
        "from sklearn.metrics import accuracy_score\n",
        "from sklearn.preprocessing import StandardScaler\n",
        "from sklearn.linear_model import LogisticRegression\n",
        "\n",
        "import warnings\n",
        "import sys  \n",
        "warnings.simplefilter(\"ignore\")"
      ],
      "metadata": {
        "id": "weJgCtiLCEiu"
      },
      "execution_count": 1,
      "outputs": []
    },
    {
      "cell_type": "markdown",
      "source": [
        "## Загрузка датасета"
      ],
      "metadata": {
        "id": "tKO3kkTU_0-L"
      }
    },
    {
      "cell_type": "code",
      "source": [
        "data = pd.read_csv('data/googleplaystore.csv')\n",
        "data.head(5)"
      ],
      "metadata": {
        "colab": {
          "base_uri": "https://localhost:8080/",
          "height": 337
        },
        "id": "QSF3b3RLACsp",
        "outputId": "d2e429ce-7abb-4657-d3c8-e7b55c56b725"
      },
      "execution_count": 2,
      "outputs": [
        {
          "output_type": "execute_result",
          "data": {
            "text/plain": [
              "                                                 App        Category  Rating  \\\n",
              "0     Photo Editor & Candy Camera & Grid & ScrapBook  ART_AND_DESIGN     4.1   \n",
              "1                                Coloring book moana  ART_AND_DESIGN     3.9   \n",
              "2  U Launcher Lite – FREE Live Cool Themes, Hide ...  ART_AND_DESIGN     4.7   \n",
              "3                              Sketch - Draw & Paint  ART_AND_DESIGN     4.5   \n",
              "4              Pixel Draw - Number Art Coloring Book  ART_AND_DESIGN     4.3   \n",
              "\n",
              "  Reviews  Size     Installs  Type Price Content Rating  \\\n",
              "0     159   19M      10,000+  Free     0       Everyone   \n",
              "1     967   14M     500,000+  Free     0       Everyone   \n",
              "2   87510  8.7M   5,000,000+  Free     0       Everyone   \n",
              "3  215644   25M  50,000,000+  Free     0           Teen   \n",
              "4     967  2.8M     100,000+  Free     0       Everyone   \n",
              "\n",
              "                      Genres      Last Updated         Current Ver  \\\n",
              "0               Art & Design   January 7, 2018               1.0.0   \n",
              "1  Art & Design;Pretend Play  January 15, 2018               2.0.0   \n",
              "2               Art & Design    August 1, 2018               1.2.4   \n",
              "3               Art & Design      June 8, 2018  Varies with device   \n",
              "4    Art & Design;Creativity     June 20, 2018                 1.1   \n",
              "\n",
              "    Android Ver  \n",
              "0  4.0.3 and up  \n",
              "1  4.0.3 and up  \n",
              "2  4.0.3 and up  \n",
              "3    4.2 and up  \n",
              "4    4.4 and up  "
            ],
            "text/html": [
              "\n",
              "  <div id=\"df-8b0df389-e076-43d9-910e-1620bbf9fb19\">\n",
              "    <div class=\"colab-df-container\">\n",
              "      <div>\n",
              "<style scoped>\n",
              "    .dataframe tbody tr th:only-of-type {\n",
              "        vertical-align: middle;\n",
              "    }\n",
              "\n",
              "    .dataframe tbody tr th {\n",
              "        vertical-align: top;\n",
              "    }\n",
              "\n",
              "    .dataframe thead th {\n",
              "        text-align: right;\n",
              "    }\n",
              "</style>\n",
              "<table border=\"1\" class=\"dataframe\">\n",
              "  <thead>\n",
              "    <tr style=\"text-align: right;\">\n",
              "      <th></th>\n",
              "      <th>App</th>\n",
              "      <th>Category</th>\n",
              "      <th>Rating</th>\n",
              "      <th>Reviews</th>\n",
              "      <th>Size</th>\n",
              "      <th>Installs</th>\n",
              "      <th>Type</th>\n",
              "      <th>Price</th>\n",
              "      <th>Content Rating</th>\n",
              "      <th>Genres</th>\n",
              "      <th>Last Updated</th>\n",
              "      <th>Current Ver</th>\n",
              "      <th>Android Ver</th>\n",
              "    </tr>\n",
              "  </thead>\n",
              "  <tbody>\n",
              "    <tr>\n",
              "      <th>0</th>\n",
              "      <td>Photo Editor &amp; Candy Camera &amp; Grid &amp; ScrapBook</td>\n",
              "      <td>ART_AND_DESIGN</td>\n",
              "      <td>4.1</td>\n",
              "      <td>159</td>\n",
              "      <td>19M</td>\n",
              "      <td>10,000+</td>\n",
              "      <td>Free</td>\n",
              "      <td>0</td>\n",
              "      <td>Everyone</td>\n",
              "      <td>Art &amp; Design</td>\n",
              "      <td>January 7, 2018</td>\n",
              "      <td>1.0.0</td>\n",
              "      <td>4.0.3 and up</td>\n",
              "    </tr>\n",
              "    <tr>\n",
              "      <th>1</th>\n",
              "      <td>Coloring book moana</td>\n",
              "      <td>ART_AND_DESIGN</td>\n",
              "      <td>3.9</td>\n",
              "      <td>967</td>\n",
              "      <td>14M</td>\n",
              "      <td>500,000+</td>\n",
              "      <td>Free</td>\n",
              "      <td>0</td>\n",
              "      <td>Everyone</td>\n",
              "      <td>Art &amp; Design;Pretend Play</td>\n",
              "      <td>January 15, 2018</td>\n",
              "      <td>2.0.0</td>\n",
              "      <td>4.0.3 and up</td>\n",
              "    </tr>\n",
              "    <tr>\n",
              "      <th>2</th>\n",
              "      <td>U Launcher Lite – FREE Live Cool Themes, Hide ...</td>\n",
              "      <td>ART_AND_DESIGN</td>\n",
              "      <td>4.7</td>\n",
              "      <td>87510</td>\n",
              "      <td>8.7M</td>\n",
              "      <td>5,000,000+</td>\n",
              "      <td>Free</td>\n",
              "      <td>0</td>\n",
              "      <td>Everyone</td>\n",
              "      <td>Art &amp; Design</td>\n",
              "      <td>August 1, 2018</td>\n",
              "      <td>1.2.4</td>\n",
              "      <td>4.0.3 and up</td>\n",
              "    </tr>\n",
              "    <tr>\n",
              "      <th>3</th>\n",
              "      <td>Sketch - Draw &amp; Paint</td>\n",
              "      <td>ART_AND_DESIGN</td>\n",
              "      <td>4.5</td>\n",
              "      <td>215644</td>\n",
              "      <td>25M</td>\n",
              "      <td>50,000,000+</td>\n",
              "      <td>Free</td>\n",
              "      <td>0</td>\n",
              "      <td>Teen</td>\n",
              "      <td>Art &amp; Design</td>\n",
              "      <td>June 8, 2018</td>\n",
              "      <td>Varies with device</td>\n",
              "      <td>4.2 and up</td>\n",
              "    </tr>\n",
              "    <tr>\n",
              "      <th>4</th>\n",
              "      <td>Pixel Draw - Number Art Coloring Book</td>\n",
              "      <td>ART_AND_DESIGN</td>\n",
              "      <td>4.3</td>\n",
              "      <td>967</td>\n",
              "      <td>2.8M</td>\n",
              "      <td>100,000+</td>\n",
              "      <td>Free</td>\n",
              "      <td>0</td>\n",
              "      <td>Everyone</td>\n",
              "      <td>Art &amp; Design;Creativity</td>\n",
              "      <td>June 20, 2018</td>\n",
              "      <td>1.1</td>\n",
              "      <td>4.4 and up</td>\n",
              "    </tr>\n",
              "  </tbody>\n",
              "</table>\n",
              "</div>\n",
              "      <button class=\"colab-df-convert\" onclick=\"convertToInteractive('df-8b0df389-e076-43d9-910e-1620bbf9fb19')\"\n",
              "              title=\"Convert this dataframe to an interactive table.\"\n",
              "              style=\"display:none;\">\n",
              "        \n",
              "  <svg xmlns=\"http://www.w3.org/2000/svg\" height=\"24px\"viewBox=\"0 0 24 24\"\n",
              "       width=\"24px\">\n",
              "    <path d=\"M0 0h24v24H0V0z\" fill=\"none\"/>\n",
              "    <path d=\"M18.56 5.44l.94 2.06.94-2.06 2.06-.94-2.06-.94-.94-2.06-.94 2.06-2.06.94zm-11 1L8.5 8.5l.94-2.06 2.06-.94-2.06-.94L8.5 2.5l-.94 2.06-2.06.94zm10 10l.94 2.06.94-2.06 2.06-.94-2.06-.94-.94-2.06-.94 2.06-2.06.94z\"/><path d=\"M17.41 7.96l-1.37-1.37c-.4-.4-.92-.59-1.43-.59-.52 0-1.04.2-1.43.59L10.3 9.45l-7.72 7.72c-.78.78-.78 2.05 0 2.83L4 21.41c.39.39.9.59 1.41.59.51 0 1.02-.2 1.41-.59l7.78-7.78 2.81-2.81c.8-.78.8-2.07 0-2.86zM5.41 20L4 18.59l7.72-7.72 1.47 1.35L5.41 20z\"/>\n",
              "  </svg>\n",
              "      </button>\n",
              "      \n",
              "  <style>\n",
              "    .colab-df-container {\n",
              "      display:flex;\n",
              "      flex-wrap:wrap;\n",
              "      gap: 12px;\n",
              "    }\n",
              "\n",
              "    .colab-df-convert {\n",
              "      background-color: #E8F0FE;\n",
              "      border: none;\n",
              "      border-radius: 50%;\n",
              "      cursor: pointer;\n",
              "      display: none;\n",
              "      fill: #1967D2;\n",
              "      height: 32px;\n",
              "      padding: 0 0 0 0;\n",
              "      width: 32px;\n",
              "    }\n",
              "\n",
              "    .colab-df-convert:hover {\n",
              "      background-color: #E2EBFA;\n",
              "      box-shadow: 0px 1px 2px rgba(60, 64, 67, 0.3), 0px 1px 3px 1px rgba(60, 64, 67, 0.15);\n",
              "      fill: #174EA6;\n",
              "    }\n",
              "\n",
              "    [theme=dark] .colab-df-convert {\n",
              "      background-color: #3B4455;\n",
              "      fill: #D2E3FC;\n",
              "    }\n",
              "\n",
              "    [theme=dark] .colab-df-convert:hover {\n",
              "      background-color: #434B5C;\n",
              "      box-shadow: 0px 1px 3px 1px rgba(0, 0, 0, 0.15);\n",
              "      filter: drop-shadow(0px 1px 2px rgba(0, 0, 0, 0.3));\n",
              "      fill: #FFFFFF;\n",
              "    }\n",
              "  </style>\n",
              "\n",
              "      <script>\n",
              "        const buttonEl =\n",
              "          document.querySelector('#df-8b0df389-e076-43d9-910e-1620bbf9fb19 button.colab-df-convert');\n",
              "        buttonEl.style.display =\n",
              "          google.colab.kernel.accessAllowed ? 'block' : 'none';\n",
              "\n",
              "        async function convertToInteractive(key) {\n",
              "          const element = document.querySelector('#df-8b0df389-e076-43d9-910e-1620bbf9fb19');\n",
              "          const dataTable =\n",
              "            await google.colab.kernel.invokeFunction('convertToInteractive',\n",
              "                                                     [key], {});\n",
              "          if (!dataTable) return;\n",
              "\n",
              "          const docLinkHtml = 'Like what you see? Visit the ' +\n",
              "            '<a target=\"_blank\" href=https://colab.research.google.com/notebooks/data_table.ipynb>data table notebook</a>'\n",
              "            + ' to learn more about interactive tables.';\n",
              "          element.innerHTML = '';\n",
              "          dataTable['output_type'] = 'display_data';\n",
              "          await google.colab.output.renderOutput(dataTable, element);\n",
              "          const docLink = document.createElement('div');\n",
              "          docLink.innerHTML = docLinkHtml;\n",
              "          element.appendChild(docLink);\n",
              "        }\n",
              "      </script>\n",
              "    </div>\n",
              "  </div>\n",
              "  "
            ]
          },
          "metadata": {},
          "execution_count": 2
        }
      ]
    },
    {
      "cell_type": "markdown",
      "source": [
        "`googleplaystore.csv` содержит подробную информацию о приложениях в Google Play. \n",
        "\n",
        "Числовые признаки:\n",
        "\n",
        "- Rating - Общий пользовательский рейтинг приложения \n",
        "- Reviews - Количество отзывов пользователей о приложении \n",
        "\n",
        "Категориальные признаки:\n",
        "\n",
        "- App - Название приложения\n",
        "- Category - Категория, к которой относится приложение\n",
        "- Size - Размер приложения \n",
        "- Installs - Количество загрузок/установок приложения пользователями \n",
        "- Type - Платный или бесплатный\n",
        "- Price - Стоимость приложения \n",
        "- Content - Возрастная группа, на которую ориентировано приложение\n",
        "- Genres - Жанр приложения (помимо основной категории)\n",
        "\n",
        "Ссылка на датасет: https://www.kaggle.com/lava18/google-play-store-apps\n",
        "\n"
      ],
      "metadata": {
        "id": "vGgr45_-AEvA"
      }
    },
    {
      "cell_type": "markdown",
      "source": [
        "### Предобработка данных"
      ],
      "metadata": {
        "id": "1EGGSGVJATpw"
      }
    },
    {
      "cell_type": "markdown",
      "source": [
        "Заменим Nan в столбце Rating средним значением по этому признаку:"
      ],
      "metadata": {
        "id": "6RbJYS4pAWwN"
      }
    },
    {
      "cell_type": "code",
      "source": [
        "data.Rating = data.Rating.fillna(data.Rating.mean())\n",
        "\n",
        "data.info()"
      ],
      "metadata": {
        "colab": {
          "base_uri": "https://localhost:8080/"
        },
        "id": "MRdnwj2KAUPV",
        "outputId": "b13e2dfe-be62-4bd9-d873-d035f6f4c66b"
      },
      "execution_count": 3,
      "outputs": [
        {
          "output_type": "stream",
          "name": "stdout",
          "text": [
            "<class 'pandas.core.frame.DataFrame'>\n",
            "RangeIndex: 10841 entries, 0 to 10840\n",
            "Data columns (total 13 columns):\n",
            " #   Column          Non-Null Count  Dtype  \n",
            "---  ------          --------------  -----  \n",
            " 0   App             10841 non-null  object \n",
            " 1   Category        10841 non-null  object \n",
            " 2   Rating          10841 non-null  float64\n",
            " 3   Reviews         10841 non-null  object \n",
            " 4   Size            10841 non-null  object \n",
            " 5   Installs        10841 non-null  object \n",
            " 6   Type            10840 non-null  object \n",
            " 7   Price           10841 non-null  object \n",
            " 8   Content Rating  10840 non-null  object \n",
            " 9   Genres          10841 non-null  object \n",
            " 10  Last Updated    10841 non-null  object \n",
            " 11  Current Ver     10833 non-null  object \n",
            " 12  Android Ver     10838 non-null  object \n",
            "dtypes: float64(1), object(12)\n",
            "memory usage: 1.1+ MB\n"
          ]
        }
      ]
    },
    {
      "cell_type": "markdown",
      "source": [
        "Далее добавим еще немного числовых признаков. \n",
        "\n",
        "Удалим строки которые содержат ошибочные значения: "
      ],
      "metadata": {
        "id": "2Y_Ieo-aAk0c"
      }
    },
    {
      "cell_type": "code",
      "source": [
        "idx_list = []\n",
        "\n",
        "for i in range(data.shape[0]):\n",
        "  if not data.iloc[i, data.columns.get_loc('Reviews')].isdigit():\n",
        "    idx_list.append(i)\n",
        "\n",
        "data = data.drop(data.index[idx_list])\n",
        "data.Reviews = data.Reviews.astype('int')"
      ],
      "metadata": {
        "id": "wrEB4Vv0AaXh"
      },
      "execution_count": 4,
      "outputs": []
    },
    {
      "cell_type": "markdown",
      "source": [
        "Уберем знак доллара и оставим только цену в долларах:"
      ],
      "metadata": {
        "id": "DpVjnR4hBBqV"
      }
    },
    {
      "cell_type": "code",
      "source": [
        "data.Price = data.Price.apply(lambda x: x.replace('$',''))\n",
        "data.Price = data.Price.astype('float32')"
      ],
      "metadata": {
        "id": "ggho8qMCAe3-"
      },
      "execution_count": 5,
      "outputs": []
    },
    {
      "cell_type": "markdown",
      "source": [
        "Возьмем в качестве значений столбца Installs числа без плюса:"
      ],
      "metadata": {
        "id": "hNlYnb7LBC7X"
      }
    },
    {
      "cell_type": "code",
      "source": [
        "data.Installs = data.Installs.apply(lambda x: x.split('+')[0])\n",
        "data.Installs = data.Installs.apply(lambda x: x.replace(',',''))\n",
        "data.Installs = data.Installs.astype('int')"
      ],
      "metadata": {
        "id": "ved4VFjeAe1h"
      },
      "execution_count": 6,
      "outputs": []
    },
    {
      "cell_type": "markdown",
      "source": [
        "Превратим значения из Size в числа с плавающей точкой:"
      ],
      "metadata": {
        "id": "Ldwk5Z84BGU4"
      }
    },
    {
      "cell_type": "code",
      "source": [
        "modified_size = []\n",
        "for item in list(data.Size):\n",
        "    if \"M\" in item:\n",
        "        modified_size.append(float(item.upper().split(\"M\")[0]))\n",
        "    elif \"K\" in item:\n",
        "        modified_size.append(float(item.upper().split(\"K\")[0]) / 0.001)\n",
        "    else:\n",
        "        modified_size.append(0.0)\n",
        "data['Size'] = modified_size\n",
        "\n",
        "data.Size = data.Size.astype('float32')"
      ],
      "metadata": {
        "id": "lf_XA6bkAexM"
      },
      "execution_count": 7,
      "outputs": []
    },
    {
      "cell_type": "code",
      "source": [
        "data.info()"
      ],
      "metadata": {
        "colab": {
          "base_uri": "https://localhost:8080/"
        },
        "id": "uRX8BYkbA6bI",
        "outputId": "470ce1bc-9c5d-4da9-94cc-2c2666ebe0e1"
      },
      "execution_count": 8,
      "outputs": [
        {
          "output_type": "stream",
          "name": "stdout",
          "text": [
            "<class 'pandas.core.frame.DataFrame'>\n",
            "Int64Index: 10840 entries, 0 to 10840\n",
            "Data columns (total 13 columns):\n",
            " #   Column          Non-Null Count  Dtype  \n",
            "---  ------          --------------  -----  \n",
            " 0   App             10840 non-null  object \n",
            " 1   Category        10840 non-null  object \n",
            " 2   Rating          10840 non-null  float64\n",
            " 3   Reviews         10840 non-null  int64  \n",
            " 4   Size            10840 non-null  float32\n",
            " 5   Installs        10840 non-null  int64  \n",
            " 6   Type            10839 non-null  object \n",
            " 7   Price           10840 non-null  float32\n",
            " 8   Content Rating  10840 non-null  object \n",
            " 9   Genres          10840 non-null  object \n",
            " 10  Last Updated    10840 non-null  object \n",
            " 11  Current Ver     10832 non-null  object \n",
            " 12  Android Ver     10838 non-null  object \n",
            "dtypes: float32(2), float64(1), int64(2), object(8)\n",
            "memory usage: 1.1+ MB\n"
          ]
        }
      ]
    },
    {
      "cell_type": "code",
      "source": [
        "data.isna().sum()"
      ],
      "metadata": {
        "colab": {
          "base_uri": "https://localhost:8080/"
        },
        "id": "yrh8jiSoCp_4",
        "outputId": "0fb51086-1f31-4ea3-8867-5eec15bc9d17"
      },
      "execution_count": 9,
      "outputs": [
        {
          "output_type": "execute_result",
          "data": {
            "text/plain": [
              "App               0\n",
              "Category          0\n",
              "Rating            0\n",
              "Reviews           0\n",
              "Size              0\n",
              "Installs          0\n",
              "Type              1\n",
              "Price             0\n",
              "Content Rating    0\n",
              "Genres            0\n",
              "Last Updated      0\n",
              "Current Ver       8\n",
              "Android Ver       2\n",
              "dtype: int64"
            ]
          },
          "metadata": {},
          "execution_count": 9
        }
      ]
    },
    {
      "cell_type": "code",
      "source": [
        "data = data.dropna(subset = ['Current Ver', 'Android Ver', 'Type'])"
      ],
      "metadata": {
        "id": "0jcU9P01Ejg8"
      },
      "execution_count": 10,
      "outputs": []
    },
    {
      "cell_type": "markdown",
      "source": [
        "## Многоклассовая классификация"
      ],
      "metadata": {
        "id": "FjUT7yQZCirc"
      }
    },
    {
      "cell_type": "markdown",
      "source": [
        "Преобразуем категориальные признаки в числовые:"
      ],
      "metadata": {
        "id": "E6PNfbcY1Lnz"
      }
    },
    {
      "cell_type": "code",
      "source": [
        "data['App'] = data['App'].astype('category').cat.codes\n",
        "data['Category'] = data['Category'].astype('category').cat.codes\n",
        "data['Type'] = data['Type'].astype('category').cat.codes\n",
        "data['Content Rating'] = data['Content Rating'].astype('category').cat.codes\n",
        "data['Genres'] = data['Genres'].astype('category').cat.codes\n",
        "data['Last Updated'] = data['Last Updated'].astype('category').cat.codes\n",
        "data['Current Ver'] = data['Current Ver'].astype('category').cat.codes\n",
        "data['Android Ver'] = data['Android Ver'].astype('category').cat.codes"
      ],
      "metadata": {
        "id": "JMR8Sa7mHK9b"
      },
      "execution_count": 11,
      "outputs": []
    },
    {
      "cell_type": "markdown",
      "source": [
        "Балансировка целевой переменной (Installs):"
      ],
      "metadata": {
        "id": "2CXuxlNBUnHj"
      }
    },
    {
      "cell_type": "code",
      "source": [
        "fig, ax = plt.subplots(figsize=(25,5))\n",
        "sns.countplot(data['Installs'], palette='winter')\n",
        "ax.set(title='Количество загрузок/установок приложения пользователями')\n",
        "plt.show()"
      ],
      "metadata": {
        "id": "lxxfqXrqVdMQ",
        "colab": {
          "base_uri": "https://localhost:8080/",
          "height": 341
        },
        "outputId": "b1fe9697-b5b3-408f-f6fd-4883b2a781c5"
      },
      "execution_count": 12,
      "outputs": [
        {
          "output_type": "display_data",
          "data": {
            "text/plain": [
              "<Figure size 1800x360 with 1 Axes>"
            ],
            "image/png": "[encoded data removed]"
          },
          "metadata": {
            "needs_background": "light"
          }
        }
      ]
    },
    {
      "cell_type": "markdown",
      "source": [
        "Посмотрим корреляцию между признаками:"
      ],
      "metadata": {
        "id": "r4UDYD5PUVAY"
      }
    },
    {
      "cell_type": "code",
      "source": [
        "corr = data.corr(method='spearman')\n",
        "mask = np.zeros_like(corr, dtype=bool)\n",
        "mask[np.triu_indices_from(mask)] = True\n",
        "f, ax = plt.subplots(figsize=(10, 10))\n",
        "cmap = sns.diverging_palette(220, 10, 30, as_cmap=True)\n",
        "sns.heatmap(corr, \n",
        "            mask=mask, \n",
        "            cmap=cmap, \n",
        "            square=True, \n",
        "            linewidths=.5, \n",
        "            cbar_kws={\"shrink\": .5},\n",
        "            annot=True\n",
        "            )\n",
        "plt.show()"
      ],
      "metadata": {
        "colab": {
          "base_uri": "https://localhost:8080/",
          "height": 559
        },
        "id": "WLqpClTQZKRf",
        "outputId": "ba80eaed-8941-475a-d4eb-8a090e7c1950"
      },
      "execution_count": 13,
      "outputs": [
        {
          "output_type": "display_data",
          "data": {
            "text/plain": [
              "<Figure size 720x720 with 2 Axes>"
            ],
            "image/png": "[encoded data removed]"
          },
          "metadata": {
            "needs_background": "light"
          }
        }
      ]
    },
    {
      "cell_type": "markdown",
      "source": [
        "Таким образом, целевая переменная сильно коррелирует с признаком \"Reviews\" и умеренно с \"Current Ver\"."
      ],
      "metadata": {
        "id": "I4YFnM1PCspT"
      }
    },
    {
      "cell_type": "code",
      "source": [
        "# параметры для дерева решений\n",
        "params = dict(max_depth = np.linspace(1, 32, 32, endpoint=True), \n",
        "                      min_samples_split = np.linspace(0.01, 0.1, 10, endpoint=True),\n",
        "                      min_samples_leaf = np.linspace(0.01, 0.1, 10, endpoint=True)\n",
        "                      )\n",
        "\n",
        "# поиск лучших гиперпараметров\n",
        "def do_grid_search(model, params, x_train, y_train, x_test, refit='accuracy'):\n",
        "    cv = StratifiedKFold(n_splits=5, random_state=42, shuffle=True)\n",
        "    grid_search = GridSearchCV(model, params, scoring=['accuracy'], \n",
        "                                n_jobs=4, cv=cv, verbose=3, refit=refit) \n",
        "    grid_search.fit(x_train.values, y_train.values)\n",
        "    y_pred = grid_search.predict(x_test.values)\n",
        "    print('Best params for {}'.format(refit))\n",
        "    print(grid_search.best_params_)\n",
        "\n",
        "# вывод результата\n",
        "def print_result(y_test, pred=None):\n",
        "  print(\"результат классификации: \\n\", classification_report(y_test, pred))\n",
        "  conf_matrix = confusion_matrix(y_test, pred)\n",
        "  print(\"Матрица ошибок: \\n\", conf_matrix, \"\\n\")\n",
        "  fig, ax = plt.subplots(figsize=(10, 7))\n",
        "  sns.heatmap(conf_matrix, cmap = cmap, annot=True)\n",
        "  plt.show()"
      ],
      "metadata": {
        "id": "drS8Dnatayln"
      },
      "execution_count": 14,
      "outputs": []
    },
    {
      "cell_type": "code",
      "source": [
        "X_train, X_test, y_train, y_test = train_test_split(data.drop('Installs', axis=1), data['Installs'], test_size=0.6, random_state=42)"
      ],
      "metadata": {
        "id": "QQfaRHClg3Zo"
      },
      "execution_count": 15,
      "outputs": []
    },
    {
      "cell_type": "markdown",
      "source": [
        "### Классификация без настройки параметров"
      ],
      "metadata": {
        "id": "av5_6a8Yz2kR"
      }
    },
    {
      "cell_type": "code",
      "source": [
        "dtree = DecisionTreeClassifier(random_state=42)\n",
        "dtree.fit(X_train, y_train)\n",
        "predictions = dtree.predict(X_test)"
      ],
      "metadata": {
        "id": "3SVsGyYchO_b"
      },
      "execution_count": 16,
      "outputs": []
    },
    {
      "cell_type": "code",
      "source": [
        "print_result(y_test=y_test, pred=predictions)\n",
        "score = cross_val_score(dtree, X_train, y_train, cv=5, scoring='accuracy')\n",
        "print('Средняя точность без настройки гиперпараметров: ', np.mean(score))"
      ],
      "metadata": {
        "colab": {
          "base_uri": "https://localhost:8080/",
          "height": 1000
        },
        "id": "4am9fxDyHklX",
        "outputId": "38910bb2-8941-4612-c67a-f4156ed52f0b"
      },
      "execution_count": 17,
      "outputs": [
        {
          "output_type": "stream",
          "name": "stdout",
          "text": [
            "результат классификации: \n",
            "               precision    recall  f1-score   support\n",
            "\n",
            "           0       0.22      0.29      0.25         7\n",
            "           1       0.12      0.10      0.11        41\n",
            "           5       0.08      0.10      0.09        39\n",
            "          10       0.29      0.26      0.28       235\n",
            "          50       0.11      0.12      0.11       119\n",
            "         100       0.41      0.36      0.38       437\n",
            "         500       0.13      0.15      0.14       194\n",
            "        1000       0.43      0.43      0.43       536\n",
            "        5000       0.27      0.30      0.28       288\n",
            "       10000       0.51      0.49      0.50       624\n",
            "       50000       0.22      0.24      0.23       267\n",
            "      100000       0.55      0.53      0.54       696\n",
            "      500000       0.28      0.28      0.28       321\n",
            "     1000000       0.62      0.58      0.60       959\n",
            "     5000000       0.40      0.45      0.42       472\n",
            "    10000000       0.65      0.66      0.66       777\n",
            "    50000000       0.54      0.49      0.51       166\n",
            "   100000000       0.75      0.80      0.78       236\n",
            "   500000000       0.62      0.84      0.72        45\n",
            "  1000000000       0.91      0.74      0.82        39\n",
            "\n",
            "    accuracy                           0.47      6498\n",
            "   macro avg       0.41      0.41      0.41      6498\n",
            "weighted avg       0.47      0.47      0.47      6498\n",
            "\n",
            "Матрица ошибок: \n",
            " [[  2   0   0   4   0   1   0   0   0   0   0   0   0   0   0   0   0   0\n",
            "    0   0]\n",
            " [  2   4   4  13   8   7   2   1   0   0   0   0   0   0   0   0   0   0\n",
            "    0   0]\n",
            " [  2   1   4  13   6   9   2   1   0   1   0   0   0   0   0   0   0   0\n",
            "    0   0]\n",
            " [  1  11  23  62  44  58  21   9   1   3   1   0   0   1   0   0   0   0\n",
            "    0   0]\n",
            " [  1   6   4  30  14  37  17   8   1   1   0   0   0   0   0   0   0   0\n",
            "    0   0]\n",
            " [  1   5   8  65  43 156  56  81  11   9   0   1   0   1   0   0   0   0\n",
            "    0   0]\n",
            " [  0   2   4  12  11  51  29  62  17   6   0   0   0   0   0   0   0   0\n",
            "    0   0]\n",
            " [  0   2   1  13   6  54  68 233  92  60   4   2   0   1   0   0   0   0\n",
            "    0   0]\n",
            " [  0   0   0   0   0   7  15  91  86  70  11   8   0   0   0   0   0   0\n",
            "    0   0]\n",
            " [  0   1   0   0   0   3   4  56  98 304  89  65   4   0   0   0   0   0\n",
            "    0   0]\n",
            " [  0   0   2   0   0   0   1   3  10  85  65  87  14   0   0   0   0   0\n",
            "    0   0]\n",
            " [  0   0   0   0   1   0   1   1   6  47 105 369 109  43   9   5   0   0\n",
            "    0   0]\n",
            " [  0   0   0   0   0   0   0   0   0   7  13  80  91 106  18   6   0   0\n",
            "    0   0]\n",
            " [  0   0   0   0   0   0   0   1   1   2   7  55  98 561 155  77   1   1\n",
            "    0   0]\n",
            " [  0   0   0   0   0   0   0   0   0   0   0   1   8 128 211 117   4   3\n",
            "    0   0]\n",
            " [  0   0   0   0   0   0   0   0   0   0   0   0   1  61 126 515  48  18\n",
            "    8   0]\n",
            " [  0   0   0   0   0   0   0   0   0   0   0   0   0   4   3  49  81  26\n",
            "    2   1]\n",
            " [  0   0   0   0   0   0   0   0   0   0   0   0   0   1   1  18  14 189\n",
            "   13   0]\n",
            " [  0   0   0   0   0   0   0   0   0   0   0   0   0   0   0   0   0   5\n",
            "   38   2]\n",
            " [  0   0   0   0   0   0   0   0   0   0   0   0   0   0   0   0   1   9\n",
            "    0  29]] \n",
            "\n"
          ]
        },
        {
          "output_type": "display_data",
          "data": {
            "text/plain": [
              "<Figure size 720x504 with 2 Axes>"
            ],
            "image/png": "[encoded data removed]"
          },
          "metadata": {
            "needs_background": "light"
          }
        },
        {
          "output_type": "stream",
          "name": "stdout",
          "text": [
            "Средняя точность без настройки гиперпараметров:  0.4634057073447502\n"
          ]
        }
      ]
    },
    {
      "cell_type": "markdown",
      "source": [
        "### Классификация с настройкой гиперпараметров"
      ],
      "metadata": {
        "id": "IghEjdxrE2k-"
      }
    },
    {
      "cell_type": "code",
      "source": [
        "do_grid_search(model=dtree, params=params, x_train=X_train, y_train=y_train, x_test=X_test)"
      ],
      "metadata": {
        "colab": {
          "base_uri": "https://localhost:8080/"
        },
        "id": "swQC0AmAtERu",
        "outputId": "fb663cb0-314b-4b03-c874-2c58c97f8487"
      },
      "execution_count": 18,
      "outputs": [
        {
          "output_type": "stream",
          "name": "stdout",
          "text": [
            "Fitting 5 folds for each of 3200 candidates, totalling 16000 fits\n",
            "Best params for accuracy\n",
            "{'max_depth': 5.0, 'min_samples_leaf': 0.01, 'min_samples_split': 0.01}\n"
          ]
        }
      ]
    },
    {
      "cell_type": "code",
      "source": [
        "dtree_grid = DecisionTreeClassifier(random_state=42, max_depth=5.0, min_samples_leaf=0.01, min_samples_split=0.01)\n",
        "print_result(y_test=y_test, pred=dtree_grid.fit(X_train, y_train).predict(X_test))\n",
        "score = cross_val_score(dtree_grid, X_train, y_train, cv=5, scoring='accuracy')\n",
        "print('Средняя точность с настройкой гиперпараметров: ', np.mean(score))"
      ],
      "metadata": {
        "id": "66EdSofytEKf",
        "colab": {
          "base_uri": "https://localhost:8080/",
          "height": 1000
        },
        "outputId": "53012752-43f4-48a7-e56f-9281339c722b"
      },
      "execution_count": 19,
      "outputs": [
        {
          "output_type": "stream",
          "name": "stdout",
          "text": [
            "результат классификации: \n",
            "               precision    recall  f1-score   support\n",
            "\n",
            "           0       0.00      0.00      0.00         7\n",
            "           1       0.00      0.00      0.00        41\n",
            "           5       0.00      0.00      0.00        39\n",
            "          10       0.36      0.78      0.49       235\n",
            "          50       0.00      0.00      0.00       119\n",
            "         100       0.43      0.50      0.46       437\n",
            "         500       0.00      0.00      0.00       194\n",
            "        1000       0.45      0.71      0.55       536\n",
            "        5000       0.00      0.00      0.00       288\n",
            "       10000       0.57      0.59      0.58       624\n",
            "       50000       0.24      0.13      0.17       267\n",
            "      100000       0.54      0.72      0.62       696\n",
            "      500000       0.31      0.10      0.15       321\n",
            "     1000000       0.59      0.77      0.67       959\n",
            "     5000000       0.41      0.35      0.38       472\n",
            "    10000000       0.68      0.67      0.68       777\n",
            "    50000000       0.43      0.37      0.40       166\n",
            "   100000000       0.65      0.67      0.66       236\n",
            "   500000000       0.00      0.00      0.00        45\n",
            "  1000000000       0.00      0.00      0.00        39\n",
            "\n",
            "    accuracy                           0.52      6498\n",
            "   macro avg       0.28      0.32      0.29      6498\n",
            "weighted avg       0.45      0.52      0.47      6498\n",
            "\n",
            "Матрица ошибок: \n",
            " [[  0   0   0   7   0   0   0   0   0   0   0   0   0   0   0   0   0   0\n",
            "    0   0]\n",
            " [  0   0   0  40   0   1   0   0   0   0   0   0   0   0   0   0   0   0\n",
            "    0   0]\n",
            " [  0   0   0  33   0   6   0   0   0   0   0   0   0   0   0   0   0   0\n",
            "    0   0]\n",
            " [  0   0   0 183   0  48   0   4   0   0   0   0   0   0   0   0   0   0\n",
            "    0   0]\n",
            " [  0   0   0  64   0  47   0   8   0   0   0   0   0   0   0   0   0   0\n",
            "    0   0]\n",
            " [  0   0   0 138   0 219   0  80   0   0   0   0   0   0   0   0   0   0\n",
            "    0   0]\n",
            " [  0   0   0  25   0  78   0  88   0   3   0   0   0   0   0   0   0   0\n",
            "    0   0]\n",
            " [  0   0   0  11   0 103   0 381   0  37   3   1   0   0   0   0   0   0\n",
            "    0   0]\n",
            " [  0   0   0   1   0   6   0 176   0  91   9   5   0   0   0   0   0   0\n",
            "    0   0]\n",
            " [  0   0   0   2   0   1   0 106   0 370  73  69   2   1   0   0   0   0\n",
            "    0   0]\n",
            " [  0   0   0   1   0   1   0   1   0  90  35 133   4   2   0   0   0   0\n",
            "    0   0]\n",
            " [  0   0   0   2   0   0   0   0   0  46  24 502  43  79   0   0   0   0\n",
            "    0   0]\n",
            " [  0   0   0   0   0   0   0   0   0   5   0 139  32 141   4   0   0   0\n",
            "    0   0]\n",
            " [  0   0   0   0   0   0   0   0   0   2   2  78  23 741  90  23   0   0\n",
            "    0   0]\n",
            " [  0   0   0   0   0   0   0   0   0   0   0   4   0 204 167  97   0   0\n",
            "    0   0]\n",
            " [  0   0   0   0   0   0   0   0   0   0   0   1   0  74 141 524  32   5\n",
            "    0   0]\n",
            " [  0   0   0   0   0   0   0   0   0   0   0   0   0   6   2  87  61  10\n",
            "    0   0]\n",
            " [  0   0   0   0   0   0   0   0   0   0   0   0   0   1   3  37  36 159\n",
            "    0   0]\n",
            " [  0   0   0   0   0   0   0   0   0   0   0   0   0   0   0   0  10  35\n",
            "    0   0]\n",
            " [  0   0   0   0   0   0   0   0   0   0   0   0   0   0   0   2   2  35\n",
            "    0   0]] \n",
            "\n"
          ]
        },
        {
          "output_type": "display_data",
          "data": {
            "text/plain": [
              "<Figure size 720x504 with 2 Axes>"
            ],
            "image/png": "[encoded data removed]"
          },
          "metadata": {
            "needs_background": "light"
          }
        },
        {
          "output_type": "stream",
          "name": "stdout",
          "text": [
            "Средняя точность с настройкой гиперпараметров:  0.504274515131416\n"
          ]
        }
      ]
    },
    {
      "cell_type": "markdown",
      "source": [
        "С настройкой гиперпараметров точность увеличилась."
      ],
      "metadata": {
        "id": "RAHHCqUA3_h0"
      }
    },
    {
      "cell_type": "markdown",
      "source": [
        "### Графики accuracy для train set и test_set для разных значений гиперпараметра"
      ],
      "metadata": {
        "id": "9B9iMkBoHt_f"
      }
    },
    {
      "cell_type": "code",
      "source": [
        "max_depth = np.linspace(1, 30, 30, endpoint=True)\n",
        "accuracy_result = []\n",
        "cv_result = []\n",
        "for md in max_depth:\n",
        "  model = DecisionTreeClassifier(random_state=42, max_depth=md)\n",
        "  model.fit(X_train, y_train)\n",
        "  model_pred = model.predict(X_test)\n",
        "  accuracy_result.append(accuracy_score(y_test, model_pred))\n",
        "  scores = cross_val_score(model, X_train, y_train, cv=5)\n",
        "  cv_result.append(np.mean(scores))"
      ],
      "metadata": {
        "id": "KTGGg15I2n4i"
      },
      "execution_count": 20,
      "outputs": []
    },
    {
      "cell_type": "code",
      "source": [
        "plt.plot(max_depth, accuracy_result, color='b', label='Accuracy')\n",
        "plt.plot(max_depth, cv_result, color='r', label='CV accuracy')\n",
        "plt.title('Train-Test accuracy vs CV accuracy')\n",
        "plt.xlabel('max depth'); plt.ylabel('accuracy')\n",
        "plt.legend()\n",
        "plt.show()"
      ],
      "metadata": {
        "colab": {
          "base_uri": "https://localhost:8080/",
          "height": 295
        },
        "id": "pEkEoDLC2ud_",
        "outputId": "bffca366-f6bc-4a4c-ea93-730b4b0292fc"
      },
      "execution_count": 21,
      "outputs": [
        {
          "output_type": "display_data",
          "data": {
            "text/plain": [
              "<Figure size 432x288 with 1 Axes>"
            ],
            "image/png": "[encoded data removed]"
          },
          "metadata": {
            "needs_background": "light"
          }
        }
      ]
    },
    {
      "cell_type": "code",
      "source": [
        "accuracy_result_train, accuracy_result_test = [], []\n",
        "for md in max_depth:\n",
        "  model = DecisionTreeClassifier(random_state=42, max_depth=md)\n",
        "  model.fit(X_train, y_train)\n",
        "  model_pred = model.predict(X_train)\n",
        "  accuracy_result_train.append(accuracy_score(y_train, model_pred))\n",
        "\n",
        "  model.fit(X_test ,y_test)\n",
        "  model_pred = model.predict(X_test)\n",
        "  accuracy_result_test.append(accuracy_score(y_test, model_pred))"
      ],
      "metadata": {
        "id": "RDB7qmwE2yko"
      },
      "execution_count": 22,
      "outputs": []
    },
    {
      "cell_type": "code",
      "source": [
        "plt.plot(max_depth, accuracy_result_test, color='b', label='Test')\n",
        "plt.plot(max_depth, accuracy_result_train, color='r', label='Train')\n",
        "plt.title('Train vs Test accuracy')\n",
        "plt.xlabel('max depth'); plt.ylabel('accuracy')\n",
        "plt.legend()\n",
        "plt.show()"
      ],
      "metadata": {
        "colab": {
          "base_uri": "https://localhost:8080/",
          "height": 295
        },
        "id": "VoW5Ihfw29nj",
        "outputId": "c7cffa11-423a-4e6b-9ce4-821030b1dfac"
      },
      "execution_count": 23,
      "outputs": [
        {
          "output_type": "display_data",
          "data": {
            "text/plain": [
              "<Figure size 432x288 with 1 Axes>"
            ],
            "image/png": "[encoded data removed]"
          },
          "metadata": {
            "needs_background": "light"
          }
        }
      ]
    },
    {
      "cell_type": "markdown",
      "source": [
        "### Нормализация признаков"
      ],
      "metadata": {
        "id": "RUdKdWGkGX9W"
      }
    },
    {
      "cell_type": "code",
      "source": [
        "scaler = StandardScaler()\n",
        "X_train_scaled = scaler.fit_transform(X_train)\n",
        "X_test_scaled = scaler.transform(X_test)"
      ],
      "metadata": {
        "id": "UROm7M0H3PwY"
      },
      "execution_count": 24,
      "outputs": []
    },
    {
      "cell_type": "code",
      "source": [
        "dtree_scaled = DecisionTreeClassifier(random_state=42)\n",
        "print_result(y_test=y_test, pred=dtree_scaled.fit(X_train_scaled, y_train).predict(X_test_scaled))\n",
        "score = cross_val_score(dtree_scaled, X_train_scaled, y_train, cv=5, scoring='accuracy')\n",
        "\n",
        "print('Средняя точность с масштабируемыми признаками: ', np.mean(score))"
      ],
      "metadata": {
        "colab": {
          "base_uri": "https://localhost:8080/",
          "height": 1000
        },
        "id": "KFEEKhQ53SQp",
        "outputId": "c58a009e-dd36-4b87-f9ee-f45529579075"
      },
      "execution_count": 25,
      "outputs": [
        {
          "output_type": "stream",
          "name": "stdout",
          "text": [
            "результат классификации: \n",
            "               precision    recall  f1-score   support\n",
            "\n",
            "           0       0.18      0.29      0.22         7\n",
            "           1       0.12      0.10      0.11        41\n",
            "           5       0.08      0.10      0.09        39\n",
            "          10       0.29      0.26      0.27       235\n",
            "          50       0.11      0.13      0.12       119\n",
            "         100       0.41      0.36      0.38       437\n",
            "         500       0.14      0.15      0.14       194\n",
            "        1000       0.43      0.43      0.43       536\n",
            "        5000       0.27      0.30      0.28       288\n",
            "       10000       0.51      0.49      0.50       624\n",
            "       50000       0.22      0.25      0.23       267\n",
            "      100000       0.55      0.53      0.54       696\n",
            "      500000       0.28      0.28      0.28       321\n",
            "     1000000       0.62      0.59      0.60       959\n",
            "     5000000       0.41      0.45      0.43       472\n",
            "    10000000       0.65      0.66      0.66       777\n",
            "    50000000       0.54      0.49      0.51       166\n",
            "   100000000       0.75      0.80      0.78       236\n",
            "   500000000       0.61      0.84      0.71        45\n",
            "  1000000000       0.91      0.74      0.82        39\n",
            "\n",
            "    accuracy                           0.47      6498\n",
            "   macro avg       0.40      0.41      0.41      6498\n",
            "weighted avg       0.47      0.47      0.47      6498\n",
            "\n",
            "Матрица ошибок: \n",
            " [[  2   0   0   4   0   1   0   0   0   0   0   0   0   0   0   0   0   0\n",
            "    0   0]\n",
            " [  2   4   4  13   8   7   2   1   0   0   0   0   0   0   0   0   0   0\n",
            "    0   0]\n",
            " [  2   1   4  13   6   9   2   1   0   1   0   0   0   0   0   0   0   0\n",
            "    0   0]\n",
            " [  3  11  23  60  46  57  20   9   1   3   1   0   0   1   0   0   0   0\n",
            "    0   0]\n",
            " [  1   6   4  30  15  36  17   8   1   1   0   0   0   0   0   0   0   0\n",
            "    0   0]\n",
            " [  1   5   8  65  43 156  55  81  12   9   0   1   0   1   0   0   0   0\n",
            "    0   0]\n",
            " [  0   2   4  12  11  51  29  62  17   6   0   0   0   0   0   0   0   0\n",
            "    0   0]\n",
            " [  0   2   1  13   6  54  68 233  92  60   4   2   0   1   0   0   0   0\n",
            "    0   0]\n",
            " [  0   0   0   0   0   6  15  91  86  70  12   8   0   0   0   0   0   0\n",
            "    0   0]\n",
            " [  0   1   0   0   0   2   4  57  97 305  89  65   4   0   0   0   0   0\n",
            "    0   0]\n",
            " [  0   0   2   0   0   0   1   3  10  85  66  86  14   0   0   0   0   0\n",
            "    0   0]\n",
            " [  0   0   0   0   1   0   1   1   6  47 105 369 109  43   9   5   0   0\n",
            "    0   0]\n",
            " [  0   0   0   0   0   0   0   0   0   7  13  80  91 106  17   7   0   0\n",
            "    0   0]\n",
            " [  0   0   0   0   0   0   0   1   1   2   7  55  98 564 153  76   1   1\n",
            "    0   0]\n",
            " [  0   0   0   0   0   0   0   0   0   0   0   1   8 127 212 117   4   3\n",
            "    0   0]\n",
            " [  0   0   0   0   0   0   0   0   0   0   0   0   1  61 125 515  48  18\n",
            "    9   0]\n",
            " [  0   0   0   0   0   0   0   0   0   0   0   0   0   4   3  49  81  26\n",
            "    2   1]\n",
            " [  0   0   0   0   0   0   0   0   0   0   0   0   0   1   1  18  14 189\n",
            "   13   0]\n",
            " [  0   0   0   0   0   0   0   0   0   0   0   0   0   0   0   0   0   5\n",
            "   38   2]\n",
            " [  0   0   0   0   0   0   0   0   0   0   0   0   0   0   0   0   1   9\n",
            "    0  29]] \n",
            "\n"
          ]
        },
        {
          "output_type": "display_data",
          "data": {
            "text/plain": [
              "<Figure size 720x504 with 2 Axes>"
            ],
            "image/png": "[encoded data removed]"
          },
          "metadata": {
            "needs_background": "light"
          }
        },
        {
          "output_type": "stream",
          "name": "stdout",
          "text": [
            "Средняя точность с масштабируемыми признаками:  0.46225150568310464\n"
          ]
        }
      ]
    },
    {
      "cell_type": "markdown",
      "source": [
        "С нормализацией признаков точность обучения модели самая низкая."
      ],
      "metadata": {
        "id": "NEuUALqc4P8K"
      }
    },
    {
      "cell_type": "markdown",
      "source": [
        "## Бинарная классификация"
      ],
      "metadata": {
        "id": "J1p8CCOTLyJW"
      }
    },
    {
      "cell_type": "markdown",
      "source": [
        "Датасет: https://www.kaggle.com/datasets/fedesoriano/stroke-prediction-dataset"
      ],
      "metadata": {
        "id": "ObiFbDrknyqG"
      }
    },
    {
      "cell_type": "markdown",
      "source": [
        "### Описание данных"
      ],
      "metadata": {
        "id": "QkxRgn4wL0Tj"
      }
    },
    {
      "cell_type": "markdown",
      "source": [
        "Числовые признаки:\n",
        "- id - Unique id\n",
        "- age - Age\n",
        "- hypertension - Hypertension binary feature\n",
        "- heart_disease - Heart disease binary feature\n",
        "- avg_glucose_level - Average glucose level in blood\n",
        "- bmi - Body Mass Index\n",
        "- stroke - Stroke event\n",
        "\n",
        "Категориальные признаки:\n",
        "- gender - Gender\n",
        "- work_type - Work type of the patient\n",
        "- Residence_type - Residence type of the patient\n",
        "- smoking_status - Smoking status of the patient\n",
        "- ever_married - Has the patient ever been married?\n",
        "\n"
      ],
      "metadata": {
        "id": "IhQjGU4Ql5n4"
      }
    },
    {
      "cell_type": "code",
      "source": [
        "df = pd.read_csv('data/healthcare-dataset-stroke-data.csv')\n",
        "df.head(5)"
      ],
      "metadata": {
        "id": "1OmmpAwl3UE1",
        "colab": {
          "base_uri": "https://localhost:8080/",
          "height": 206
        },
        "outputId": "dbf8c182-1fdb-4676-88ff-635c2cd1fdf6"
      },
      "execution_count": 26,
      "outputs": [
        {
          "output_type": "execute_result",
          "data": {
            "text/plain": [
              "      id  gender   age  hypertension  heart_disease ever_married  \\\n",
              "0   9046    Male  67.0             0              1          Yes   \n",
              "1  51676  Female  61.0             0              0          Yes   \n",
              "2  31112    Male  80.0             0              1          Yes   \n",
              "3  60182  Female  49.0             0              0          Yes   \n",
              "4   1665  Female  79.0             1              0          Yes   \n",
              "\n",
              "       work_type Residence_type  avg_glucose_level   bmi   smoking_status  \\\n",
              "0        Private          Urban             228.69  36.6  formerly smoked   \n",
              "1  Self-employed          Rural             202.21   NaN     never smoked   \n",
              "2        Private          Rural             105.92  32.5     never smoked   \n",
              "3        Private          Urban             171.23  34.4           smokes   \n",
              "4  Self-employed          Rural             174.12  24.0     never smoked   \n",
              "\n",
              "   stroke  \n",
              "0       1  \n",
              "1       1  \n",
              "2       1  \n",
              "3       1  \n",
              "4       1  "
            ],
            "text/html": [
              "\n",
              "  <div id=\"df-09c3d3e5-2a52-4f25-948f-fc494dfed0fc\">\n",
              "    <div class=\"colab-df-container\">\n",
              "      <div>\n",
              "<style scoped>\n",
              "    .dataframe tbody tr th:only-of-type {\n",
              "        vertical-align: middle;\n",
              "    }\n",
              "\n",
              "    .dataframe tbody tr th {\n",
              "        vertical-align: top;\n",
              "    }\n",
              "\n",
              "    .dataframe thead th {\n",
              "        text-align: right;\n",
              "    }\n",
              "</style>\n",
              "<table border=\"1\" class=\"dataframe\">\n",
              "  <thead>\n",
              "    <tr style=\"text-align: right;\">\n",
              "      <th></th>\n",
              "      <th>id</th>\n",
              "      <th>gender</th>\n",
              "      <th>age</th>\n",
              "      <th>hypertension</th>\n",
              "      <th>heart_disease</th>\n",
              "      <th>ever_married</th>\n",
              "      <th>work_type</th>\n",
              "      <th>Residence_type</th>\n",
              "      <th>avg_glucose_level</th>\n",
              "      <th>bmi</th>\n",
              "      <th>smoking_status</th>\n",
              "      <th>stroke</th>\n",
              "    </tr>\n",
              "  </thead>\n",
              "  <tbody>\n",
              "    <tr>\n",
              "      <th>0</th>\n",
              "      <td>9046</td>\n",
              "      <td>Male</td>\n",
              "      <td>67.0</td>\n",
              "      <td>0</td>\n",
              "      <td>1</td>\n",
              "      <td>Yes</td>\n",
              "      <td>Private</td>\n",
              "      <td>Urban</td>\n",
              "      <td>228.69</td>\n",
              "      <td>36.6</td>\n",
              "      <td>formerly smoked</td>\n",
              "      <td>1</td>\n",
              "    </tr>\n",
              "    <tr>\n",
              "      <th>1</th>\n",
              "      <td>51676</td>\n",
              "      <td>Female</td>\n",
              "      <td>61.0</td>\n",
              "      <td>0</td>\n",
              "      <td>0</td>\n",
              "      <td>Yes</td>\n",
              "      <td>Self-employed</td>\n",
              "      <td>Rural</td>\n",
              "      <td>202.21</td>\n",
              "      <td>NaN</td>\n",
              "      <td>never smoked</td>\n",
              "      <td>1</td>\n",
              "    </tr>\n",
              "    <tr>\n",
              "      <th>2</th>\n",
              "      <td>31112</td>\n",
              "      <td>Male</td>\n",
              "      <td>80.0</td>\n",
              "      <td>0</td>\n",
              "      <td>1</td>\n",
              "      <td>Yes</td>\n",
              "      <td>Private</td>\n",
              "      <td>Rural</td>\n",
              "      <td>105.92</td>\n",
              "      <td>32.5</td>\n",
              "      <td>never smoked</td>\n",
              "      <td>1</td>\n",
              "    </tr>\n",
              "    <tr>\n",
              "      <th>3</th>\n",
              "      <td>60182</td>\n",
              "      <td>Female</td>\n",
              "      <td>49.0</td>\n",
              "      <td>0</td>\n",
              "      <td>0</td>\n",
              "      <td>Yes</td>\n",
              "      <td>Private</td>\n",
              "      <td>Urban</td>\n",
              "      <td>171.23</td>\n",
              "      <td>34.4</td>\n",
              "      <td>smokes</td>\n",
              "      <td>1</td>\n",
              "    </tr>\n",
              "    <tr>\n",
              "      <th>4</th>\n",
              "      <td>1665</td>\n",
              "      <td>Female</td>\n",
              "      <td>79.0</td>\n",
              "      <td>1</td>\n",
              "      <td>0</td>\n",
              "      <td>Yes</td>\n",
              "      <td>Self-employed</td>\n",
              "      <td>Rural</td>\n",
              "      <td>174.12</td>\n",
              "      <td>24.0</td>\n",
              "      <td>never smoked</td>\n",
              "      <td>1</td>\n",
              "    </tr>\n",
              "  </tbody>\n",
              "</table>\n",
              "</div>\n",
              "      <button class=\"colab-df-convert\" onclick=\"convertToInteractive('df-09c3d3e5-2a52-4f25-948f-fc494dfed0fc')\"\n",
              "              title=\"Convert this dataframe to an interactive table.\"\n",
              "              style=\"display:none;\">\n",
              "        \n",
              "  <svg xmlns=\"http://www.w3.org/2000/svg\" height=\"24px\"viewBox=\"0 0 24 24\"\n",
              "       width=\"24px\">\n",
              "    <path d=\"M0 0h24v24H0V0z\" fill=\"none\"/>\n",
              "    <path d=\"M18.56 5.44l.94 2.06.94-2.06 2.06-.94-2.06-.94-.94-2.06-.94 2.06-2.06.94zm-11 1L8.5 8.5l.94-2.06 2.06-.94-2.06-.94L8.5 2.5l-.94 2.06-2.06.94zm10 10l.94 2.06.94-2.06 2.06-.94-2.06-.94-.94-2.06-.94 2.06-2.06.94z\"/><path d=\"M17.41 7.96l-1.37-1.37c-.4-.4-.92-.59-1.43-.59-.52 0-1.04.2-1.43.59L10.3 9.45l-7.72 7.72c-.78.78-.78 2.05 0 2.83L4 21.41c.39.39.9.59 1.41.59.51 0 1.02-.2 1.41-.59l7.78-7.78 2.81-2.81c.8-.78.8-2.07 0-2.86zM5.41 20L4 18.59l7.72-7.72 1.47 1.35L5.41 20z\"/>\n",
              "  </svg>\n",
              "      </button>\n",
              "      \n",
              "  <style>\n",
              "    .colab-df-container {\n",
              "      display:flex;\n",
              "      flex-wrap:wrap;\n",
              "      gap: 12px;\n",
              "    }\n",
              "\n",
              "    .colab-df-convert {\n",
              "      background-color: #E8F0FE;\n",
              "      border: none;\n",
              "      border-radius: 50%;\n",
              "      cursor: pointer;\n",
              "      display: none;\n",
              "      fill: #1967D2;\n",
              "      height: 32px;\n",
              "      padding: 0 0 0 0;\n",
              "      width: 32px;\n",
              "    }\n",
              "\n",
              "    .colab-df-convert:hover {\n",
              "      background-color: #E2EBFA;\n",
              "      box-shadow: 0px 1px 2px rgba(60, 64, 67, 0.3), 0px 1px 3px 1px rgba(60, 64, 67, 0.15);\n",
              "      fill: #174EA6;\n",
              "    }\n",
              "\n",
              "    [theme=dark] .colab-df-convert {\n",
              "      background-color: #3B4455;\n",
              "      fill: #D2E3FC;\n",
              "    }\n",
              "\n",
              "    [theme=dark] .colab-df-convert:hover {\n",
              "      background-color: #434B5C;\n",
              "      box-shadow: 0px 1px 3px 1px rgba(0, 0, 0, 0.15);\n",
              "      filter: drop-shadow(0px 1px 2px rgba(0, 0, 0, 0.3));\n",
              "      fill: #FFFFFF;\n",
              "    }\n",
              "  </style>\n",
              "\n",
              "      <script>\n",
              "        const buttonEl =\n",
              "          document.querySelector('#df-09c3d3e5-2a52-4f25-948f-fc494dfed0fc button.colab-df-convert');\n",
              "        buttonEl.style.display =\n",
              "          google.colab.kernel.accessAllowed ? 'block' : 'none';\n",
              "\n",
              "        async function convertToInteractive(key) {\n",
              "          const element = document.querySelector('#df-09c3d3e5-2a52-4f25-948f-fc494dfed0fc');\n",
              "          const dataTable =\n",
              "            await google.colab.kernel.invokeFunction('convertToInteractive',\n",
              "                                                     [key], {});\n",
              "          if (!dataTable) return;\n",
              "\n",
              "          const docLinkHtml = 'Like what you see? Visit the ' +\n",
              "            '<a target=\"_blank\" href=https://colab.research.google.com/notebooks/data_table.ipynb>data table notebook</a>'\n",
              "            + ' to learn more about interactive tables.';\n",
              "          element.innerHTML = '';\n",
              "          dataTable['output_type'] = 'display_data';\n",
              "          await google.colab.output.renderOutput(dataTable, element);\n",
              "          const docLink = document.createElement('div');\n",
              "          docLink.innerHTML = docLinkHtml;\n",
              "          element.appendChild(docLink);\n",
              "        }\n",
              "      </script>\n",
              "    </div>\n",
              "  </div>\n",
              "  "
            ]
          },
          "metadata": {},
          "execution_count": 26
        }
      ]
    },
    {
      "cell_type": "markdown",
      "source": [
        "### Работа с пропущенными значениями"
      ],
      "metadata": {
        "id": "NAjXt9ycPptM"
      }
    },
    {
      "cell_type": "code",
      "source": [
        "df.isnull().sum()"
      ],
      "metadata": {
        "colab": {
          "base_uri": "https://localhost:8080/"
        },
        "id": "7dIf_VNWRKfI",
        "outputId": "c790d297-1d27-4029-ec78-146f75960c5c"
      },
      "execution_count": 27,
      "outputs": [
        {
          "output_type": "execute_result",
          "data": {
            "text/plain": [
              "id                     0\n",
              "gender                 0\n",
              "age                    0\n",
              "hypertension           0\n",
              "heart_disease          0\n",
              "ever_married           0\n",
              "work_type              0\n",
              "Residence_type         0\n",
              "avg_glucose_level      0\n",
              "bmi                  201\n",
              "smoking_status         0\n",
              "stroke                 0\n",
              "dtype: int64"
            ]
          },
          "metadata": {},
          "execution_count": 27
        }
      ]
    },
    {
      "cell_type": "code",
      "source": [
        "# A really fantsatic and intelligent way to deal with blanks, from Thoman Konstantin in: https://www.kaggle.com/thomaskonstantin/analyzing-and-modeling-stroke-data\n",
        "\n",
        "from sklearn.pipeline import Pipeline\n",
        "from sklearn.tree import DecisionTreeRegressor\n",
        "\n",
        "DT_bmi_pipe = Pipeline( steps=[\n",
        "                               ('scale',StandardScaler()),\n",
        "                               ('lr',DecisionTreeRegressor(random_state=42))\n",
        "                              ])\n",
        "X = df[['age', 'gender', 'bmi']].copy()\n",
        "X.gender = X.gender.replace({'Male':0, 'Female':1, 'Other':-1}).astype(np.uint8)\n",
        "\n",
        "Missing = X[X.bmi.isna()]\n",
        "X = X[~X.bmi.isna()]\n",
        "Y = X.pop('bmi')\n",
        "DT_bmi_pipe.fit(X,Y)\n",
        "predicted_bmi = pd.Series(DT_bmi_pipe.predict(Missing[['age', 'gender']]),index=Missing.index)\n",
        "df.loc[Missing.index,'bmi'] = predicted_bmi"
      ],
      "metadata": {
        "id": "PopzZ6taT_Hj"
      },
      "execution_count": 28,
      "outputs": []
    },
    {
      "cell_type": "code",
      "source": [
        "print('Missing values: ', sum(df.isnull().sum()))"
      ],
      "metadata": {
        "colab": {
          "base_uri": "https://localhost:8080/"
        },
        "id": "Tzd1VP-pUB8i",
        "outputId": "3cfd699f-dd12-4459-8088-6c00de5081e7"
      },
      "execution_count": 29,
      "outputs": [
        {
          "output_type": "stream",
          "name": "stdout",
          "text": [
            "Missing values:  0\n"
          ]
        }
      ]
    },
    {
      "cell_type": "markdown",
      "source": [
        "Преобразование категориальных признаков в числовые:"
      ],
      "metadata": {
        "id": "Au7eqVnjQN1V"
      }
    },
    {
      "cell_type": "code",
      "source": [
        "df.gender = df.gender.replace({'Male':0, 'Female':1, 'Other':-1}).astype(np.uint8)\n",
        "df.Residence_type = df.Residence_type.replace({'Urban':0, 'Rural':1}).astype(np.uint8)\n",
        "df.ever_married = df.ever_married.replace(['No', 'Yes'], [0, 1])\n",
        "df['smoking_status'] = df['smoking_status'].astype('category').cat.codes\n",
        "df['work_type'] = df['work_type'].astype('category').cat.codes"
      ],
      "metadata": {
        "id": "30ejmIfkVlRV"
      },
      "execution_count": 30,
      "outputs": []
    },
    {
      "cell_type": "code",
      "source": [
        "df.head(5)"
      ],
      "metadata": {
        "colab": {
          "base_uri": "https://localhost:8080/",
          "height": 206
        },
        "id": "1XWUSbG2YXF3",
        "outputId": "58131afc-5627-4ed7-e91b-802681d93d90"
      },
      "execution_count": 31,
      "outputs": [
        {
          "output_type": "execute_result",
          "data": {
            "text/plain": [
              "      id  gender   age  hypertension  heart_disease  ever_married  work_type  \\\n",
              "0   9046       0  67.0             0              1             1          2   \n",
              "1  51676       1  61.0             0              0             1          3   \n",
              "2  31112       0  80.0             0              1             1          2   \n",
              "3  60182       1  49.0             0              0             1          2   \n",
              "4   1665       1  79.0             1              0             1          3   \n",
              "\n",
              "   Residence_type  avg_glucose_level        bmi  smoking_status  stroke  \n",
              "0               0             228.69  36.600000               1       1  \n",
              "1               1             202.21  29.879487               2       1  \n",
              "2               1             105.92  32.500000               2       1  \n",
              "3               0             171.23  34.400000               3       1  \n",
              "4               1             174.12  24.000000               2       1  "
            ],
            "text/html": [
              "\n",
              "  <div id=\"df-79ea3d35-ebef-40da-bc3d-57c577942d11\">\n",
              "    <div class=\"colab-df-container\">\n",
              "      <div>\n",
              "<style scoped>\n",
              "    .dataframe tbody tr th:only-of-type {\n",
              "        vertical-align: middle;\n",
              "    }\n",
              "\n",
              "    .dataframe tbody tr th {\n",
              "        vertical-align: top;\n",
              "    }\n",
              "\n",
              "    .dataframe thead th {\n",
              "        text-align: right;\n",
              "    }\n",
              "</style>\n",
              "<table border=\"1\" class=\"dataframe\">\n",
              "  <thead>\n",
              "    <tr style=\"text-align: right;\">\n",
              "      <th></th>\n",
              "      <th>id</th>\n",
              "      <th>gender</th>\n",
              "      <th>age</th>\n",
              "      <th>hypertension</th>\n",
              "      <th>heart_disease</th>\n",
              "      <th>ever_married</th>\n",
              "      <th>work_type</th>\n",
              "      <th>Residence_type</th>\n",
              "      <th>avg_glucose_level</th>\n",
              "      <th>bmi</th>\n",
              "      <th>smoking_status</th>\n",
              "      <th>stroke</th>\n",
              "    </tr>\n",
              "  </thead>\n",
              "  <tbody>\n",
              "    <tr>\n",
              "      <th>0</th>\n",
              "      <td>9046</td>\n",
              "      <td>0</td>\n",
              "      <td>67.0</td>\n",
              "      <td>0</td>\n",
              "      <td>1</td>\n",
              "      <td>1</td>\n",
              "      <td>2</td>\n",
              "      <td>0</td>\n",
              "      <td>228.69</td>\n",
              "      <td>36.600000</td>\n",
              "      <td>1</td>\n",
              "      <td>1</td>\n",
              "    </tr>\n",
              "    <tr>\n",
              "      <th>1</th>\n",
              "      <td>51676</td>\n",
              "      <td>1</td>\n",
              "      <td>61.0</td>\n",
              "      <td>0</td>\n",
              "      <td>0</td>\n",
              "      <td>1</td>\n",
              "      <td>3</td>\n",
              "      <td>1</td>\n",
              "      <td>202.21</td>\n",
              "      <td>29.879487</td>\n",
              "      <td>2</td>\n",
              "      <td>1</td>\n",
              "    </tr>\n",
              "    <tr>\n",
              "      <th>2</th>\n",
              "      <td>31112</td>\n",
              "      <td>0</td>\n",
              "      <td>80.0</td>\n",
              "      <td>0</td>\n",
              "      <td>1</td>\n",
              "      <td>1</td>\n",
              "      <td>2</td>\n",
              "      <td>1</td>\n",
              "      <td>105.92</td>\n",
              "      <td>32.500000</td>\n",
              "      <td>2</td>\n",
              "      <td>1</td>\n",
              "    </tr>\n",
              "    <tr>\n",
              "      <th>3</th>\n",
              "      <td>60182</td>\n",
              "      <td>1</td>\n",
              "      <td>49.0</td>\n",
              "      <td>0</td>\n",
              "      <td>0</td>\n",
              "      <td>1</td>\n",
              "      <td>2</td>\n",
              "      <td>0</td>\n",
              "      <td>171.23</td>\n",
              "      <td>34.400000</td>\n",
              "      <td>3</td>\n",
              "      <td>1</td>\n",
              "    </tr>\n",
              "    <tr>\n",
              "      <th>4</th>\n",
              "      <td>1665</td>\n",
              "      <td>1</td>\n",
              "      <td>79.0</td>\n",
              "      <td>1</td>\n",
              "      <td>0</td>\n",
              "      <td>1</td>\n",
              "      <td>3</td>\n",
              "      <td>1</td>\n",
              "      <td>174.12</td>\n",
              "      <td>24.000000</td>\n",
              "      <td>2</td>\n",
              "      <td>1</td>\n",
              "    </tr>\n",
              "  </tbody>\n",
              "</table>\n",
              "</div>\n",
              "      <button class=\"colab-df-convert\" onclick=\"convertToInteractive('df-79ea3d35-ebef-40da-bc3d-57c577942d11')\"\n",
              "              title=\"Convert this dataframe to an interactive table.\"\n",
              "              style=\"display:none;\">\n",
              "        \n",
              "  <svg xmlns=\"http://www.w3.org/2000/svg\" height=\"24px\"viewBox=\"0 0 24 24\"\n",
              "       width=\"24px\">\n",
              "    <path d=\"M0 0h24v24H0V0z\" fill=\"none\"/>\n",
              "    <path d=\"M18.56 5.44l.94 2.06.94-2.06 2.06-.94-2.06-.94-.94-2.06-.94 2.06-2.06.94zm-11 1L8.5 8.5l.94-2.06 2.06-.94-2.06-.94L8.5 2.5l-.94 2.06-2.06.94zm10 10l.94 2.06.94-2.06 2.06-.94-2.06-.94-.94-2.06-.94 2.06-2.06.94z\"/><path d=\"M17.41 7.96l-1.37-1.37c-.4-.4-.92-.59-1.43-.59-.52 0-1.04.2-1.43.59L10.3 9.45l-7.72 7.72c-.78.78-.78 2.05 0 2.83L4 21.41c.39.39.9.59 1.41.59.51 0 1.02-.2 1.41-.59l7.78-7.78 2.81-2.81c.8-.78.8-2.07 0-2.86zM5.41 20L4 18.59l7.72-7.72 1.47 1.35L5.41 20z\"/>\n",
              "  </svg>\n",
              "      </button>\n",
              "      \n",
              "  <style>\n",
              "    .colab-df-container {\n",
              "      display:flex;\n",
              "      flex-wrap:wrap;\n",
              "      gap: 12px;\n",
              "    }\n",
              "\n",
              "    .colab-df-convert {\n",
              "      background-color: #E8F0FE;\n",
              "      border: none;\n",
              "      border-radius: 50%;\n",
              "      cursor: pointer;\n",
              "      display: none;\n",
              "      fill: #1967D2;\n",
              "      height: 32px;\n",
              "      padding: 0 0 0 0;\n",
              "      width: 32px;\n",
              "    }\n",
              "\n",
              "    .colab-df-convert:hover {\n",
              "      background-color: #E2EBFA;\n",
              "      box-shadow: 0px 1px 2px rgba(60, 64, 67, 0.3), 0px 1px 3px 1px rgba(60, 64, 67, 0.15);\n",
              "      fill: #174EA6;\n",
              "    }\n",
              "\n",
              "    [theme=dark] .colab-df-convert {\n",
              "      background-color: #3B4455;\n",
              "      fill: #D2E3FC;\n",
              "    }\n",
              "\n",
              "    [theme=dark] .colab-df-convert:hover {\n",
              "      background-color: #434B5C;\n",
              "      box-shadow: 0px 1px 3px 1px rgba(0, 0, 0, 0.15);\n",
              "      filter: drop-shadow(0px 1px 2px rgba(0, 0, 0, 0.3));\n",
              "      fill: #FFFFFF;\n",
              "    }\n",
              "  </style>\n",
              "\n",
              "      <script>\n",
              "        const buttonEl =\n",
              "          document.querySelector('#df-79ea3d35-ebef-40da-bc3d-57c577942d11 button.colab-df-convert');\n",
              "        buttonEl.style.display =\n",
              "          google.colab.kernel.accessAllowed ? 'block' : 'none';\n",
              "\n",
              "        async function convertToInteractive(key) {\n",
              "          const element = document.querySelector('#df-79ea3d35-ebef-40da-bc3d-57c577942d11');\n",
              "          const dataTable =\n",
              "            await google.colab.kernel.invokeFunction('convertToInteractive',\n",
              "                                                     [key], {});\n",
              "          if (!dataTable) return;\n",
              "\n",
              "          const docLinkHtml = 'Like what you see? Visit the ' +\n",
              "            '<a target=\"_blank\" href=https://colab.research.google.com/notebooks/data_table.ipynb>data table notebook</a>'\n",
              "            + ' to learn more about interactive tables.';\n",
              "          element.innerHTML = '';\n",
              "          dataTable['output_type'] = 'display_data';\n",
              "          await google.colab.output.renderOutput(dataTable, element);\n",
              "          const docLink = document.createElement('div');\n",
              "          docLink.innerHTML = docLinkHtml;\n",
              "          element.appendChild(docLink);\n",
              "        }\n",
              "      </script>\n",
              "    </div>\n",
              "  </div>\n",
              "  "
            ]
          },
          "metadata": {},
          "execution_count": 31
        }
      ]
    },
    {
      "cell_type": "markdown",
      "source": [
        "Целевая переменная: \"stroke\". Посмотрим ее распределение:"
      ],
      "metadata": {
        "id": "LB53VcaBpmxz"
      }
    },
    {
      "cell_type": "code",
      "source": [
        "sns.countplot(df.stroke, palette='winter')\n",
        "plt.show()"
      ],
      "metadata": {
        "colab": {
          "base_uri": "https://localhost:8080/",
          "height": 279
        },
        "id": "_akp6e74qmSV",
        "outputId": "bf577994-3113-4f0e-80e6-3c0d932c9c2a"
      },
      "execution_count": 32,
      "outputs": [
        {
          "output_type": "display_data",
          "data": {
            "text/plain": [
              "<Figure size 432x288 with 1 Axes>"
            ],
            "image/png": "[encoded data removed]"
          },
          "metadata": {
            "needs_background": "light"
          }
        }
      ]
    },
    {
      "cell_type": "markdown",
      "source": [
        "Видно, что данные сильно несбаланисрованы. Создадим новый train датасет методом upsampling:"
      ],
      "metadata": {
        "id": "86rQ9Sp0p47z"
      }
    },
    {
      "cell_type": "code",
      "source": [
        "train_data = df.sample(frac=0.6, random_state=25)"
      ],
      "metadata": {
        "id": "YEOIEKjLo4vo"
      },
      "execution_count": 33,
      "outputs": []
    },
    {
      "cell_type": "code",
      "source": [
        "# во сколько раз одних признаков больше других\n",
        "rat = len(train_data.loc[train_data['stroke']==0])//len(train_data.loc[train_data['stroke']==1])\n",
        "rat"
      ],
      "metadata": {
        "colab": {
          "base_uri": "https://localhost:8080/"
        },
        "id": "MmSUvjI3o_-L",
        "outputId": "0e098747-a4d1-40ca-95b8-143186551a20"
      },
      "execution_count": 34,
      "outputs": [
        {
          "output_type": "execute_result",
          "data": {
            "text/plain": [
              "17"
            ]
          },
          "metadata": {},
          "execution_count": 34
        }
      ]
    },
    {
      "cell_type": "code",
      "source": [
        "df_1 = train_data.loc[train_data['stroke']==1]\n",
        "df_1 = df_1.loc[df_1.index.repeat(rat)]\n",
        "train_n = pd.concat([train_data.loc[train_data['stroke']==0], df_1]).sample(frac=1)"
      ],
      "metadata": {
        "id": "7ENHnSNbLXu2"
      },
      "execution_count": 35,
      "outputs": []
    },
    {
      "cell_type": "code",
      "source": [
        "test_data = df.drop(labels=train_data.index)\n",
        "X_train = train_n[train_n.columns.difference(['stroke'])]\n",
        "y_train = train_n['stroke']\n",
        "X_test = test_data[test_data.columns.difference(['stroke'])]\n",
        "y_test = test_data['stroke']"
      ],
      "metadata": {
        "id": "5soR3TOUszKR"
      },
      "execution_count": 36,
      "outputs": []
    },
    {
      "cell_type": "markdown",
      "source": [
        "### Классификация без настройки гиперпараметров"
      ],
      "metadata": {
        "id": "VvieXv71QvKe"
      }
    },
    {
      "cell_type": "code",
      "source": [
        "lr = LogisticRegression(random_state=42, solver='newton-cg')\n",
        "lr.fit(X_train ,y_train)\n",
        "lr_pred = lr.predict(X_test)\n",
        "\n",
        "print_result(y_test=y_test, pred=lr_pred)"
      ],
      "metadata": {
        "colab": {
          "base_uri": "https://localhost:8080/",
          "height": 671
        },
        "id": "phq8PqEqU-5j",
        "outputId": "45e0daa8-edd2-411c-849e-c5f79ff8566c"
      },
      "execution_count": 37,
      "outputs": [
        {
          "output_type": "stream",
          "name": "stdout",
          "text": [
            "результат классификации: \n",
            "               precision    recall  f1-score   support\n",
            "\n",
            "           0       0.99      0.76      0.86      1957\n",
            "           1       0.13      0.80      0.22        87\n",
            "\n",
            "    accuracy                           0.76      2044\n",
            "   macro avg       0.56      0.78      0.54      2044\n",
            "weighted avg       0.95      0.76      0.83      2044\n",
            "\n",
            "Матрица ошибок: \n",
            " [[1490  467]\n",
            " [  17   70]] \n",
            "\n"
          ]
        },
        {
          "output_type": "display_data",
          "data": {
            "text/plain": [
              "<Figure size 720x504 with 2 Axes>"
            ],
            "image/png": "[encoded data removed]"
          },
          "metadata": {
            "needs_background": "light"
          }
        }
      ]
    },
    {
      "cell_type": "code",
      "source": [
        "scores = cross_val_score(lr, X_train, y_train, cv=5)\n",
        "print('Средняя оценка точности: ', np.mean(scores))"
      ],
      "metadata": {
        "colab": {
          "base_uri": "https://localhost:8080/"
        },
        "id": "rkGWvDStZOqv",
        "outputId": "0c782a78-155b-4d5e-cd38-3abaf6e177e7"
      },
      "execution_count": 38,
      "outputs": [
        {
          "output_type": "stream",
          "name": "stdout",
          "text": [
            "Средняя оценка точности:  0.7658131113839655\n"
          ]
        }
      ]
    },
    {
      "cell_type": "markdown",
      "source": [
        "### Нормализация признаков"
      ],
      "metadata": {
        "id": "fi_X3uP1Eq20"
      }
    },
    {
      "cell_type": "code",
      "source": [
        "scaler = StandardScaler()\n",
        "X_train_scaled = scaler.fit_transform(X_train)\n",
        "X_test_scaled = scaler.transform(X_test)\n",
        "lr = LogisticRegression(random_state=42, solver='newton-cg')\n",
        "lr.fit(X_train_scaled ,y_train)\n",
        "lr_pred = lr.predict(X_test_scaled)\n",
        "\n",
        "print_result(y_test=y_test, pred=lr_pred)"
      ],
      "metadata": {
        "colab": {
          "base_uri": "https://localhost:8080/",
          "height": 671
        },
        "id": "nDcty8paZmTe",
        "outputId": "10cb4c18-7f67-40df-a5fe-4c2a6379d1a3"
      },
      "execution_count": 39,
      "outputs": [
        {
          "output_type": "stream",
          "name": "stdout",
          "text": [
            "результат классификации: \n",
            "               precision    recall  f1-score   support\n",
            "\n",
            "           0       0.99      0.76      0.86      1957\n",
            "           1       0.13      0.80      0.22        87\n",
            "\n",
            "    accuracy                           0.76      2044\n",
            "   macro avg       0.56      0.78      0.54      2044\n",
            "weighted avg       0.95      0.76      0.83      2044\n",
            "\n",
            "Матрица ошибок: \n",
            " [[1491  466]\n",
            " [  17   70]] \n",
            "\n"
          ]
        },
        {
          "output_type": "display_data",
          "data": {
            "text/plain": [
              "<Figure size 720x504 with 2 Axes>"
            ],
            "image/png": "[encoded data removed]"
          },
          "metadata": {
            "needs_background": "light"
          }
        }
      ]
    },
    {
      "cell_type": "code",
      "source": [
        "scores = cross_val_score(lr, X_train_scaled, y_train, cv=5)\n",
        "print('Средняя оценка точности: ', np.mean(scores))"
      ],
      "metadata": {
        "colab": {
          "base_uri": "https://localhost:8080/"
        },
        "id": "JHYVDTh8ZpAw",
        "outputId": "040c7ccc-8bf3-46eb-a9ad-113fc45c786b"
      },
      "execution_count": 40,
      "outputs": [
        {
          "output_type": "stream",
          "name": "stdout",
          "text": [
            "Средняя оценка точности:  0.7658131113839655\n"
          ]
        }
      ]
    },
    {
      "cell_type": "markdown",
      "source": [
        "Использование масштабирования признаков позволило немного увеличить точность. "
      ],
      "metadata": {
        "id": "CKCp6KQs208M"
      }
    },
    {
      "cell_type": "markdown",
      "source": [
        "### Настройка гиперпараметров"
      ],
      "metadata": {
        "id": "m2W_Jz6qDuVu"
      }
    },
    {
      "cell_type": "code",
      "source": [
        "params={\"C\":[*np.arange(0,1, 0.01)], \"penalty\":[\"none\", \"l2\"]}\n",
        "do_grid_search(\n",
        "    model=lr, \n",
        "    params=params, \n",
        "    x_train=X_train, \n",
        "    y_train=y_train, \n",
        "    x_test=X_test\n",
        "    )"
      ],
      "metadata": {
        "colab": {
          "base_uri": "https://localhost:8080/"
        },
        "id": "Q1k5CrunZstK",
        "outputId": "8ece3f37-d664-4f64-ab5a-beae012fda1b"
      },
      "execution_count": 41,
      "outputs": [
        {
          "output_type": "stream",
          "name": "stdout",
          "text": [
            "Fitting 5 folds for each of 200 candidates, totalling 1000 fits\n",
            "Best params for accuracy\n",
            "{'C': 0.01, 'penalty': 'l2'}\n"
          ]
        }
      ]
    },
    {
      "cell_type": "code",
      "source": [
        "lr = LogisticRegression(C=.01, penalty=\"l2\")\n",
        "lr.fit(X_train,y_train)\n",
        "print_result(y_test=y_test, pred=lr.fit(X_train, y_train).predict(X_test))\n",
        "score = cross_val_score(lr, X_train, y_train, cv=5, scoring='accuracy')\n",
        "print('Средняя точность с настройкой гиперпараметров: ', np.mean(score))"
      ],
      "metadata": {
        "colab": {
          "base_uri": "https://localhost:8080/",
          "height": 688
        },
        "id": "yvKzQndRZuLA",
        "outputId": "52255e2a-be67-42e2-8613-1cf46f319b1a"
      },
      "execution_count": 43,
      "outputs": [
        {
          "output_type": "stream",
          "name": "stdout",
          "text": [
            "результат классификации: \n",
            "               precision    recall  f1-score   support\n",
            "\n",
            "           0       0.98      0.69      0.81      1957\n",
            "           1       0.10      0.76      0.18        87\n",
            "\n",
            "    accuracy                           0.70      2044\n",
            "   macro avg       0.54      0.73      0.49      2044\n",
            "weighted avg       0.95      0.70      0.79      2044\n",
            "\n",
            "Матрица ошибок: \n",
            " [[1357  600]\n",
            " [  21   66]] \n",
            "\n"
          ]
        },
        {
          "output_type": "display_data",
          "data": {
            "text/plain": [
              "<Figure size 720x504 with 2 Axes>"
            ],
            "image/png": "[encoded data removed]"
          },
          "metadata": {
            "needs_background": "light"
          }
        },
        {
          "output_type": "stream",
          "name": "stdout",
          "text": [
            "Средняя точность с настройкой гиперпараметров:  0.7131424706238889\n"
          ]
        }
      ]
    },
    {
      "cell_type": "markdown",
      "source": [
        "С настройкой гиперпараметров значение точности оказалось немного меньше."
      ],
      "metadata": {
        "id": "y6T-Bvh4v3Va"
      }
    }
  ]
}