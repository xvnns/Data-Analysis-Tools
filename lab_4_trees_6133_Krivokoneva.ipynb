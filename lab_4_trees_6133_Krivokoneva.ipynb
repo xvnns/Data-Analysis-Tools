{
  "nbformat": 4,
  "nbformat_minor": 0,
  "metadata": {
    "colab": {
      "name": "lab_4_trees_6133_Krivokoneva",
      "provenance": [],
      "collapsed_sections": [],
      "toc_visible": true
    },
    "kernelspec": {
      "name": "python3",
      "display_name": "Python 3"
    },
    "language_info": {
      "name": "python"
    }
  },
  "cells": [
    {
      "cell_type": "markdown",
      "source": [
        "# Лабораторная работа 4\n",
        "Деревья решений\n",
        "\n",
        "Выполнила: Кривоконева Екатерина, группа 6133"
      ],
      "metadata": {
        "id": "qeCvqgxP_ik6"
      }
    },
    {
      "cell_type": "code",
      "source": [
        "import pandas as pd\n",
        "pd.set_option('display.max_columns', None)\n",
        "import numpy as np\n",
        "import matplotlib.pyplot as plt\n",
        "\n",
        "from sklearn.model_selection import GridSearchCV\n",
        "from sklearn.model_selection import train_test_split\n",
        "from sklearn.metrics import accuracy_score\n",
        "from sklearn.metrics import classification_report\n",
        "from sklearn.tree import DecisionTreeClassifier\n",
        "from sklearn.ensemble import RandomForestClassifier\n",
        "from sklearn.preprocessing import StandardScaler\n",
        "from sklearn.neighbors import KNeighborsClassifier\n",
        "\n",
        "import warnings\n",
        "import sys  \n",
        "warnings.simplefilter(\"ignore\")"
      ],
      "metadata": {
        "id": "weJgCtiLCEiu"
      },
      "execution_count": null,
      "outputs": []
    },
    {
      "cell_type": "markdown",
      "source": [
        "## 1. Загрузка датасета"
      ],
      "metadata": {
        "id": "tKO3kkTU_0-L"
      }
    },
    {
      "cell_type": "code",
      "source": [
        "data = pd.read_csv('data/googleplaystore.csv')\n",
        "data.head(5)"
      ],
      "metadata": {
        "colab": {
          "base_uri": "https://localhost:8080/",
          "height": 337
        },
        "id": "QSF3b3RLACsp",
        "outputId": "65b69bb0-7338-4dbb-eb39-11622a56edc5"
      },
      "execution_count": null,
      "outputs": [
        {
          "output_type": "execute_result",
          "data": {
            "text/plain": [
              "                                                 App        Category  Rating  \\\n",
              "0     Photo Editor & Candy Camera & Grid & ScrapBook  ART_AND_DESIGN     4.1   \n",
              "1                                Coloring book moana  ART_AND_DESIGN     3.9   \n",
              "2  U Launcher Lite – FREE Live Cool Themes, Hide ...  ART_AND_DESIGN     4.7   \n",
              "3                              Sketch - Draw & Paint  ART_AND_DESIGN     4.5   \n",
              "4              Pixel Draw - Number Art Coloring Book  ART_AND_DESIGN     4.3   \n",
              "\n",
              "  Reviews  Size     Installs  Type Price Content Rating  \\\n",
              "0     159   19M      10,000+  Free     0       Everyone   \n",
              "1     967   14M     500,000+  Free     0       Everyone   \n",
              "2   87510  8.7M   5,000,000+  Free     0       Everyone   \n",
              "3  215644   25M  50,000,000+  Free     0           Teen   \n",
              "4     967  2.8M     100,000+  Free     0       Everyone   \n",
              "\n",
              "                      Genres      Last Updated         Current Ver  \\\n",
              "0               Art & Design   January 7, 2018               1.0.0   \n",
              "1  Art & Design;Pretend Play  January 15, 2018               2.0.0   \n",
              "2               Art & Design    August 1, 2018               1.2.4   \n",
              "3               Art & Design      June 8, 2018  Varies with device   \n",
              "4    Art & Design;Creativity     June 20, 2018                 1.1   \n",
              "\n",
              "    Android Ver  \n",
              "0  4.0.3 and up  \n",
              "1  4.0.3 and up  \n",
              "2  4.0.3 and up  \n",
              "3    4.2 and up  \n",
              "4    4.4 and up  "
            ],
            "text/html": [
              "\n",
              "  <div id=\"df-9b9d483c-13e0-4671-bb95-11dc035938f1\">\n",
              "    <div class=\"colab-df-container\">\n",
              "      <div>\n",
              "<style scoped>\n",
              "    .dataframe tbody tr th:only-of-type {\n",
              "        vertical-align: middle;\n",
              "    }\n",
              "\n",
              "    .dataframe tbody tr th {\n",
              "        vertical-align: top;\n",
              "    }\n",
              "\n",
              "    .dataframe thead th {\n",
              "        text-align: right;\n",
              "    }\n",
              "</style>\n",
              "<table border=\"1\" class=\"dataframe\">\n",
              "  <thead>\n",
              "    <tr style=\"text-align: right;\">\n",
              "      <th></th>\n",
              "      <th>App</th>\n",
              "      <th>Category</th>\n",
              "      <th>Rating</th>\n",
              "      <th>Reviews</th>\n",
              "      <th>Size</th>\n",
              "      <th>Installs</th>\n",
              "      <th>Type</th>\n",
              "      <th>Price</th>\n",
              "      <th>Content Rating</th>\n",
              "      <th>Genres</th>\n",
              "      <th>Last Updated</th>\n",
              "      <th>Current Ver</th>\n",
              "      <th>Android Ver</th>\n",
              "    </tr>\n",
              "  </thead>\n",
              "  <tbody>\n",
              "    <tr>\n",
              "      <th>0</th>\n",
              "      <td>Photo Editor &amp; Candy Camera &amp; Grid &amp; ScrapBook</td>\n",
              "      <td>ART_AND_DESIGN</td>\n",
              "      <td>4.1</td>\n",
              "      <td>159</td>\n",
              "      <td>19M</td>\n",
              "      <td>10,000+</td>\n",
              "      <td>Free</td>\n",
              "      <td>0</td>\n",
              "      <td>Everyone</td>\n",
              "      <td>Art &amp; Design</td>\n",
              "      <td>January 7, 2018</td>\n",
              "      <td>1.0.0</td>\n",
              "      <td>4.0.3 and up</td>\n",
              "    </tr>\n",
              "    <tr>\n",
              "      <th>1</th>\n",
              "      <td>Coloring book moana</td>\n",
              "      <td>ART_AND_DESIGN</td>\n",
              "      <td>3.9</td>\n",
              "      <td>967</td>\n",
              "      <td>14M</td>\n",
              "      <td>500,000+</td>\n",
              "      <td>Free</td>\n",
              "      <td>0</td>\n",
              "      <td>Everyone</td>\n",
              "      <td>Art &amp; Design;Pretend Play</td>\n",
              "      <td>January 15, 2018</td>\n",
              "      <td>2.0.0</td>\n",
              "      <td>4.0.3 and up</td>\n",
              "    </tr>\n",
              "    <tr>\n",
              "      <th>2</th>\n",
              "      <td>U Launcher Lite – FREE Live Cool Themes, Hide ...</td>\n",
              "      <td>ART_AND_DESIGN</td>\n",
              "      <td>4.7</td>\n",
              "      <td>87510</td>\n",
              "      <td>8.7M</td>\n",
              "      <td>5,000,000+</td>\n",
              "      <td>Free</td>\n",
              "      <td>0</td>\n",
              "      <td>Everyone</td>\n",
              "      <td>Art &amp; Design</td>\n",
              "      <td>August 1, 2018</td>\n",
              "      <td>1.2.4</td>\n",
              "      <td>4.0.3 and up</td>\n",
              "    </tr>\n",
              "    <tr>\n",
              "      <th>3</th>\n",
              "      <td>Sketch - Draw &amp; Paint</td>\n",
              "      <td>ART_AND_DESIGN</td>\n",
              "      <td>4.5</td>\n",
              "      <td>215644</td>\n",
              "      <td>25M</td>\n",
              "      <td>50,000,000+</td>\n",
              "      <td>Free</td>\n",
              "      <td>0</td>\n",
              "      <td>Teen</td>\n",
              "      <td>Art &amp; Design</td>\n",
              "      <td>June 8, 2018</td>\n",
              "      <td>Varies with device</td>\n",
              "      <td>4.2 and up</td>\n",
              "    </tr>\n",
              "    <tr>\n",
              "      <th>4</th>\n",
              "      <td>Pixel Draw - Number Art Coloring Book</td>\n",
              "      <td>ART_AND_DESIGN</td>\n",
              "      <td>4.3</td>\n",
              "      <td>967</td>\n",
              "      <td>2.8M</td>\n",
              "      <td>100,000+</td>\n",
              "      <td>Free</td>\n",
              "      <td>0</td>\n",
              "      <td>Everyone</td>\n",
              "      <td>Art &amp; Design;Creativity</td>\n",
              "      <td>June 20, 2018</td>\n",
              "      <td>1.1</td>\n",
              "      <td>4.4 and up</td>\n",
              "    </tr>\n",
              "  </tbody>\n",
              "</table>\n",
              "</div>\n",
              "      <button class=\"colab-df-convert\" onclick=\"convertToInteractive('df-9b9d483c-13e0-4671-bb95-11dc035938f1')\"\n",
              "              title=\"Convert this dataframe to an interactive table.\"\n",
              "              style=\"display:none;\">\n",
              "        \n",
              "  <svg xmlns=\"http://www.w3.org/2000/svg\" height=\"24px\"viewBox=\"0 0 24 24\"\n",
              "       width=\"24px\">\n",
              "    <path d=\"M0 0h24v24H0V0z\" fill=\"none\"/>\n",
              "    <path d=\"M18.56 5.44l.94 2.06.94-2.06 2.06-.94-2.06-.94-.94-2.06-.94 2.06-2.06.94zm-11 1L8.5 8.5l.94-2.06 2.06-.94-2.06-.94L8.5 2.5l-.94 2.06-2.06.94zm10 10l.94 2.06.94-2.06 2.06-.94-2.06-.94-.94-2.06-.94 2.06-2.06.94z\"/><path d=\"M17.41 7.96l-1.37-1.37c-.4-.4-.92-.59-1.43-.59-.52 0-1.04.2-1.43.59L10.3 9.45l-7.72 7.72c-.78.78-.78 2.05 0 2.83L4 21.41c.39.39.9.59 1.41.59.51 0 1.02-.2 1.41-.59l7.78-7.78 2.81-2.81c.8-.78.8-2.07 0-2.86zM5.41 20L4 18.59l7.72-7.72 1.47 1.35L5.41 20z\"/>\n",
              "  </svg>\n",
              "      </button>\n",
              "      \n",
              "  <style>\n",
              "    .colab-df-container {\n",
              "      display:flex;\n",
              "      flex-wrap:wrap;\n",
              "      gap: 12px;\n",
              "    }\n",
              "\n",
              "    .colab-df-convert {\n",
              "      background-color: #E8F0FE;\n",
              "      border: none;\n",
              "      border-radius: 50%;\n",
              "      cursor: pointer;\n",
              "      display: none;\n",
              "      fill: #1967D2;\n",
              "      height: 32px;\n",
              "      padding: 0 0 0 0;\n",
              "      width: 32px;\n",
              "    }\n",
              "\n",
              "    .colab-df-convert:hover {\n",
              "      background-color: #E2EBFA;\n",
              "      box-shadow: 0px 1px 2px rgba(60, 64, 67, 0.3), 0px 1px 3px 1px rgba(60, 64, 67, 0.15);\n",
              "      fill: #174EA6;\n",
              "    }\n",
              "\n",
              "    [theme=dark] .colab-df-convert {\n",
              "      background-color: #3B4455;\n",
              "      fill: #D2E3FC;\n",
              "    }\n",
              "\n",
              "    [theme=dark] .colab-df-convert:hover {\n",
              "      background-color: #434B5C;\n",
              "      box-shadow: 0px 1px 3px 1px rgba(0, 0, 0, 0.15);\n",
              "      filter: drop-shadow(0px 1px 2px rgba(0, 0, 0, 0.3));\n",
              "      fill: #FFFFFF;\n",
              "    }\n",
              "  </style>\n",
              "\n",
              "      <script>\n",
              "        const buttonEl =\n",
              "          document.querySelector('#df-9b9d483c-13e0-4671-bb95-11dc035938f1 button.colab-df-convert');\n",
              "        buttonEl.style.display =\n",
              "          google.colab.kernel.accessAllowed ? 'block' : 'none';\n",
              "\n",
              "        async function convertToInteractive(key) {\n",
              "          const element = document.querySelector('#df-9b9d483c-13e0-4671-bb95-11dc035938f1');\n",
              "          const dataTable =\n",
              "            await google.colab.kernel.invokeFunction('convertToInteractive',\n",
              "                                                     [key], {});\n",
              "          if (!dataTable) return;\n",
              "\n",
              "          const docLinkHtml = 'Like what you see? Visit the ' +\n",
              "            '<a target=\"_blank\" href=https://colab.research.google.com/notebooks/data_table.ipynb>data table notebook</a>'\n",
              "            + ' to learn more about interactive tables.';\n",
              "          element.innerHTML = '';\n",
              "          dataTable['output_type'] = 'display_data';\n",
              "          await google.colab.output.renderOutput(dataTable, element);\n",
              "          const docLink = document.createElement('div');\n",
              "          docLink.innerHTML = docLinkHtml;\n",
              "          element.appendChild(docLink);\n",
              "        }\n",
              "      </script>\n",
              "    </div>\n",
              "  </div>\n",
              "  "
            ]
          },
          "metadata": {},
          "execution_count": 2
        }
      ]
    },
    {
      "cell_type": "markdown",
      "source": [
        "`googleplaystore.csv` содержит подробную информацию о приложениях в Google Play. \n",
        "\n",
        "Числовые признаки:\n",
        "\n",
        "- Rating - Общий пользовательский рейтинг приложения \n",
        "- Reviews - Количество отзывов пользователей о приложении \n",
        "\n",
        "Категориальные признаки:\n",
        "\n",
        "- App - Название приложения\n",
        "- Category - Категория, к которой относится приложение\n",
        "- Size - Размер приложения \n",
        "- Installs - Количество загрузок/установок приложения пользователями \n",
        "- Type - Платный или бесплатный\n",
        "- Price - Стоимость приложения \n",
        "- Content - Возрастная группа, на которую ориентировано приложение\n",
        "- Genres - Жанр приложения (помимо основной категории)\n",
        "\n",
        "Ссылка на датасет: https://www.kaggle.com/lava18/google-play-store-apps\n",
        "\n"
      ],
      "metadata": {
        "id": "vGgr45_-AEvA"
      }
    },
    {
      "cell_type": "markdown",
      "source": [
        "### Предобработка данных"
      ],
      "metadata": {
        "id": "1EGGSGVJATpw"
      }
    },
    {
      "cell_type": "markdown",
      "source": [
        "Заменим Nan в столбце Rating средним значением по этому признаку:"
      ],
      "metadata": {
        "id": "6RbJYS4pAWwN"
      }
    },
    {
      "cell_type": "code",
      "source": [
        "data.Rating = data.Rating.fillna(data.Rating.mean())\n",
        "\n",
        "data.info()"
      ],
      "metadata": {
        "colab": {
          "base_uri": "https://localhost:8080/"
        },
        "id": "MRdnwj2KAUPV",
        "outputId": "73de0c52-6bfa-4493-9856-3d3d8422a24c"
      },
      "execution_count": null,
      "outputs": [
        {
          "output_type": "stream",
          "name": "stdout",
          "text": [
            "<class 'pandas.core.frame.DataFrame'>\n",
            "RangeIndex: 10841 entries, 0 to 10840\n",
            "Data columns (total 13 columns):\n",
            " #   Column          Non-Null Count  Dtype  \n",
            "---  ------          --------------  -----  \n",
            " 0   App             10841 non-null  object \n",
            " 1   Category        10841 non-null  object \n",
            " 2   Rating          10841 non-null  float64\n",
            " 3   Reviews         10841 non-null  object \n",
            " 4   Size            10841 non-null  object \n",
            " 5   Installs        10841 non-null  object \n",
            " 6   Type            10840 non-null  object \n",
            " 7   Price           10841 non-null  object \n",
            " 8   Content Rating  10840 non-null  object \n",
            " 9   Genres          10841 non-null  object \n",
            " 10  Last Updated    10841 non-null  object \n",
            " 11  Current Ver     10833 non-null  object \n",
            " 12  Android Ver     10838 non-null  object \n",
            "dtypes: float64(1), object(12)\n",
            "memory usage: 1.1+ MB\n"
          ]
        }
      ]
    },
    {
      "cell_type": "markdown",
      "source": [
        "Далее добавим еще немного числовых признаков. \n",
        "\n",
        "Удалим строки которые содержат ошибочные значения: "
      ],
      "metadata": {
        "id": "2Y_Ieo-aAk0c"
      }
    },
    {
      "cell_type": "code",
      "source": [
        "idx_list = []\n",
        "\n",
        "for i in range(data.shape[0]):\n",
        "  if not data.iloc[i, data.columns.get_loc('Reviews')].isdigit():\n",
        "    idx_list.append(i)\n",
        "\n",
        "data = data.drop(data.index[idx_list])\n",
        "data.Reviews = data.Reviews.astype('int')"
      ],
      "metadata": {
        "id": "wrEB4Vv0AaXh"
      },
      "execution_count": null,
      "outputs": []
    },
    {
      "cell_type": "markdown",
      "source": [
        "Уберем знак доллара и оставим только цену в долларах:"
      ],
      "metadata": {
        "id": "DpVjnR4hBBqV"
      }
    },
    {
      "cell_type": "code",
      "source": [
        "data.Price = data.Price.apply(lambda x: x.replace('$',''))\n",
        "data.Price = data.Price.astype('float32')"
      ],
      "metadata": {
        "id": "ggho8qMCAe3-"
      },
      "execution_count": null,
      "outputs": []
    },
    {
      "cell_type": "markdown",
      "source": [
        "Возьмем в качестве значений столбца Installs числа без плюса:"
      ],
      "metadata": {
        "id": "hNlYnb7LBC7X"
      }
    },
    {
      "cell_type": "code",
      "source": [
        "data.Installs = data.Installs.apply(lambda x: x.split('+')[0])\n",
        "data.Installs = data.Installs.apply(lambda x: x.replace(',',''))\n",
        "data.Installs = data.Installs.astype('int')"
      ],
      "metadata": {
        "id": "ved4VFjeAe1h"
      },
      "execution_count": null,
      "outputs": []
    },
    {
      "cell_type": "markdown",
      "source": [
        "Превратим значения из Size в числа с плавающей точкой:"
      ],
      "metadata": {
        "id": "Ldwk5Z84BGU4"
      }
    },
    {
      "cell_type": "code",
      "source": [
        "modified_size = []\n",
        "for item in list(data.Size):\n",
        "    if \"M\" in item:\n",
        "        modified_size.append(float(item.upper().split(\"M\")[0]))\n",
        "    elif \"K\" in item:\n",
        "        modified_size.append(float(item.upper().split(\"K\")[0]) / 0.001)\n",
        "    else:\n",
        "        modified_size.append(0.0)\n",
        "data['Size'] = modified_size\n",
        "\n",
        "data.Size = data.Size.astype('float32')"
      ],
      "metadata": {
        "id": "lf_XA6bkAexM"
      },
      "execution_count": null,
      "outputs": []
    },
    {
      "cell_type": "code",
      "source": [
        "data.info()"
      ],
      "metadata": {
        "colab": {
          "base_uri": "https://localhost:8080/"
        },
        "id": "uRX8BYkbA6bI",
        "outputId": "30b6afa2-a4b2-4262-e4f0-64758d01c842"
      },
      "execution_count": null,
      "outputs": [
        {
          "output_type": "stream",
          "name": "stdout",
          "text": [
            "<class 'pandas.core.frame.DataFrame'>\n",
            "Int64Index: 10840 entries, 0 to 10840\n",
            "Data columns (total 13 columns):\n",
            " #   Column          Non-Null Count  Dtype  \n",
            "---  ------          --------------  -----  \n",
            " 0   App             10840 non-null  object \n",
            " 1   Category        10840 non-null  object \n",
            " 2   Rating          10840 non-null  float64\n",
            " 3   Reviews         10840 non-null  int64  \n",
            " 4   Size            10840 non-null  float32\n",
            " 5   Installs        10840 non-null  int64  \n",
            " 6   Type            10839 non-null  object \n",
            " 7   Price           10840 non-null  float32\n",
            " 8   Content Rating  10840 non-null  object \n",
            " 9   Genres          10840 non-null  object \n",
            " 10  Last Updated    10840 non-null  object \n",
            " 11  Current Ver     10832 non-null  object \n",
            " 12  Android Ver     10838 non-null  object \n",
            "dtypes: float32(2), float64(1), int64(2), object(8)\n",
            "memory usage: 1.1+ MB\n"
          ]
        }
      ]
    },
    {
      "cell_type": "code",
      "source": [
        "data.isna().sum()"
      ],
      "metadata": {
        "colab": {
          "base_uri": "https://localhost:8080/"
        },
        "id": "yrh8jiSoCp_4",
        "outputId": "b380c350-0815-4d74-c346-87176cf03bc8"
      },
      "execution_count": null,
      "outputs": [
        {
          "output_type": "execute_result",
          "data": {
            "text/plain": [
              "App               0\n",
              "Category          0\n",
              "Rating            0\n",
              "Reviews           0\n",
              "Size              0\n",
              "Installs          0\n",
              "Type              1\n",
              "Price             0\n",
              "Content Rating    0\n",
              "Genres            0\n",
              "Last Updated      0\n",
              "Current Ver       8\n",
              "Android Ver       2\n",
              "dtype: int64"
            ]
          },
          "metadata": {},
          "execution_count": 9
        }
      ]
    },
    {
      "cell_type": "markdown",
      "source": [
        "## 1.0. Для вашего датасета преобразовать категориальные признаки в бинарные с помощью pd.factorize / pd.get_dummies"
      ],
      "metadata": {
        "id": "6VXeyeBR6LQL"
      }
    },
    {
      "cell_type": "code",
      "source": [
        "df = data.drop(columns=['Category', 'Type', 'Content Rating', 'Android Ver'])"
      ],
      "metadata": {
        "id": "_-ynJpBFo2l7"
      },
      "execution_count": null,
      "outputs": []
    },
    {
      "cell_type": "code",
      "source": [
        "df = pd.concat([df, pd.get_dummies(data['Category'], drop_first = True)], axis = 1)\n",
        "df = pd.concat([df, pd.get_dummies(data['Type'], drop_first = True)], axis = 1)\n",
        "df = pd.concat([df, pd.get_dummies(data['Content Rating'], drop_first = True)], axis = 1)\n",
        "df = pd.concat([df, pd.get_dummies(data['Android Ver'], drop_first = True)], axis = 1)"
      ],
      "metadata": {
        "id": "Yh0EDFezmwX2"
      },
      "execution_count": null,
      "outputs": []
    },
    {
      "cell_type": "code",
      "source": [
        "df['App'] = pd.factorize(data['App'])[0]\n",
        "df['Genres'] = pd.factorize(data['Genres'])[0]\n",
        "df['Current Ver'] = pd.factorize(data['Current Ver'])[0]\n",
        "df['Last Updated'] = pd.factorize(data['Last Updated'])[0]\n",
        "df.head(5)"
      ],
      "metadata": {
        "colab": {
          "base_uri": "https://localhost:8080/",
          "height": 305
        },
        "id": "ILzW3PGwn6Qx",
        "outputId": "5fa84c7f-d977-45f9-abbd-855da67beb7b"
      },
      "execution_count": null,
      "outputs": [
        {
          "output_type": "execute_result",
          "data": {
            "text/plain": [
              "   App  Rating  Reviews  Size  Installs  Price  Genres  Last Updated  \\\n",
              "0    0     4.1      159  19.0     10000    0.0       0             0   \n",
              "1    1     3.9      967  14.0    500000    0.0       1             1   \n",
              "2    2     4.7    87510   8.7   5000000    0.0       0             2   \n",
              "3    3     4.5   215644  25.0  50000000    0.0       0             3   \n",
              "4    4     4.3      967   2.8    100000    0.0       2             4   \n",
              "\n",
              "   Current Ver  AUTO_AND_VEHICLES  BEAUTY  BOOKS_AND_REFERENCE  BUSINESS  \\\n",
              "0            0                  0       0                    0         0   \n",
              "1            1                  0       0                    0         0   \n",
              "2            2                  0       0                    0         0   \n",
              "3            3                  0       0                    0         0   \n",
              "4            4                  0       0                    0         0   \n",
              "\n",
              "   COMICS  COMMUNICATION  DATING  EDUCATION  ENTERTAINMENT  EVENTS  FAMILY  \\\n",
              "0       0              0       0          0              0       0       0   \n",
              "1       0              0       0          0              0       0       0   \n",
              "2       0              0       0          0              0       0       0   \n",
              "3       0              0       0          0              0       0       0   \n",
              "4       0              0       0          0              0       0       0   \n",
              "\n",
              "   FINANCE  FOOD_AND_DRINK  GAME  HEALTH_AND_FITNESS  HOUSE_AND_HOME  \\\n",
              "0        0               0     0                   0               0   \n",
              "1        0               0     0                   0               0   \n",
              "2        0               0     0                   0               0   \n",
              "3        0               0     0                   0               0   \n",
              "4        0               0     0                   0               0   \n",
              "\n",
              "   LIBRARIES_AND_DEMO  LIFESTYLE  MAPS_AND_NAVIGATION  MEDICAL  \\\n",
              "0                   0          0                    0        0   \n",
              "1                   0          0                    0        0   \n",
              "2                   0          0                    0        0   \n",
              "3                   0          0                    0        0   \n",
              "4                   0          0                    0        0   \n",
              "\n",
              "   NEWS_AND_MAGAZINES  PARENTING  PERSONALIZATION  PHOTOGRAPHY  PRODUCTIVITY  \\\n",
              "0                   0          0                0            0             0   \n",
              "1                   0          0                0            0             0   \n",
              "2                   0          0                0            0             0   \n",
              "3                   0          0                0            0             0   \n",
              "4                   0          0                0            0             0   \n",
              "\n",
              "   SHOPPING  SOCIAL  SPORTS  TOOLS  TRAVEL_AND_LOCAL  VIDEO_PLAYERS  WEATHER  \\\n",
              "0         0       0       0      0                 0              0        0   \n",
              "1         0       0       0      0                 0              0        0   \n",
              "2         0       0       0      0                 0              0        0   \n",
              "3         0       0       0      0                 0              0        0   \n",
              "4         0       0       0      0                 0              0        0   \n",
              "\n",
              "   Paid  Everyone  Everyone 10+  Mature 17+  Teen  Unrated  1.5 and up  \\\n",
              "0     0         1             0           0     0        0           0   \n",
              "1     0         1             0           0     0        0           0   \n",
              "2     0         1             0           0     0        0           0   \n",
              "3     0         0             0           0     1        0           0   \n",
              "4     0         1             0           0     0        0           0   \n",
              "\n",
              "   1.6 and up  2.0 and up  2.0.1 and up  2.1 and up  2.2 - 7.1.1  2.2 and up  \\\n",
              "0           0           0             0           0            0           0   \n",
              "1           0           0             0           0            0           0   \n",
              "2           0           0             0           0            0           0   \n",
              "3           0           0             0           0            0           0   \n",
              "4           0           0             0           0            0           0   \n",
              "\n",
              "   2.3 and up  2.3.3 and up  3.0 and up  3.1 and up  3.2 and up  4.0 and up  \\\n",
              "0           0             0           0           0           0           0   \n",
              "1           0             0           0           0           0           0   \n",
              "2           0             0           0           0           0           0   \n",
              "3           0             0           0           0           0           0   \n",
              "4           0             0           0           0           0           0   \n",
              "\n",
              "   4.0.3 - 7.1.1  4.0.3 and up  4.1 - 7.1.1  4.1 and up  4.2 and up  \\\n",
              "0              0             1            0           0           0   \n",
              "1              0             1            0           0           0   \n",
              "2              0             1            0           0           0   \n",
              "3              0             0            0           0           1   \n",
              "4              0             0            0           0           0   \n",
              "\n",
              "   4.3 and up  4.4 and up  4.4W and up  5.0 - 6.0  5.0 - 7.1.1  5.0 - 8.0  \\\n",
              "0           0           0            0          0            0          0   \n",
              "1           0           0            0          0            0          0   \n",
              "2           0           0            0          0            0          0   \n",
              "3           0           0            0          0            0          0   \n",
              "4           0           1            0          0            0          0   \n",
              "\n",
              "   5.0 and up  5.1 and up  6.0 and up  7.0 - 7.1.1  7.0 and up  7.1 and up  \\\n",
              "0           0           0           0            0           0           0   \n",
              "1           0           0           0            0           0           0   \n",
              "2           0           0           0            0           0           0   \n",
              "3           0           0           0            0           0           0   \n",
              "4           0           0           0            0           0           0   \n",
              "\n",
              "   8.0 and up  Varies with device  \n",
              "0           0                   0  \n",
              "1           0                   0  \n",
              "2           0                   0  \n",
              "3           0                   0  \n",
              "4           0                   0  "
            ],
            "text/html": [
              "\n",
              "  <div id=\"df-b3020a25-611a-4cb0-905c-4a61a380f5f7\">\n",
              "    <div class=\"colab-df-container\">\n",
              "      <div>\n",
              "<style scoped>\n",
              "    .dataframe tbody tr th:only-of-type {\n",
              "        vertical-align: middle;\n",
              "    }\n",
              "\n",
              "    .dataframe tbody tr th {\n",
              "        vertical-align: top;\n",
              "    }\n",
              "\n",
              "    .dataframe thead th {\n",
              "        text-align: right;\n",
              "    }\n",
              "</style>\n",
              "<table border=\"1\" class=\"dataframe\">\n",
              "  <thead>\n",
              "    <tr style=\"text-align: right;\">\n",
              "      <th></th>\n",
              "      <th>App</th>\n",
              "      <th>Rating</th>\n",
              "      <th>Reviews</th>\n",
              "      <th>Size</th>\n",
              "      <th>Installs</th>\n",
              "      <th>Price</th>\n",
              "      <th>Genres</th>\n",
              "      <th>Last Updated</th>\n",
              "      <th>Current Ver</th>\n",
              "      <th>AUTO_AND_VEHICLES</th>\n",
              "      <th>BEAUTY</th>\n",
              "      <th>BOOKS_AND_REFERENCE</th>\n",
              "      <th>BUSINESS</th>\n",
              "      <th>COMICS</th>\n",
              "      <th>COMMUNICATION</th>\n",
              "      <th>DATING</th>\n",
              "      <th>EDUCATION</th>\n",
              "      <th>ENTERTAINMENT</th>\n",
              "      <th>EVENTS</th>\n",
              "      <th>FAMILY</th>\n",
              "      <th>FINANCE</th>\n",
              "      <th>FOOD_AND_DRINK</th>\n",
              "      <th>GAME</th>\n",
              "      <th>HEALTH_AND_FITNESS</th>\n",
              "      <th>HOUSE_AND_HOME</th>\n",
              "      <th>LIBRARIES_AND_DEMO</th>\n",
              "      <th>LIFESTYLE</th>\n",
              "      <th>MAPS_AND_NAVIGATION</th>\n",
              "      <th>MEDICAL</th>\n",
              "      <th>NEWS_AND_MAGAZINES</th>\n",
              "      <th>PARENTING</th>\n",
              "      <th>PERSONALIZATION</th>\n",
              "      <th>PHOTOGRAPHY</th>\n",
              "      <th>PRODUCTIVITY</th>\n",
              "      <th>SHOPPING</th>\n",
              "      <th>SOCIAL</th>\n",
              "      <th>SPORTS</th>\n",
              "      <th>TOOLS</th>\n",
              "      <th>TRAVEL_AND_LOCAL</th>\n",
              "      <th>VIDEO_PLAYERS</th>\n",
              "      <th>WEATHER</th>\n",
              "      <th>Paid</th>\n",
              "      <th>Everyone</th>\n",
              "      <th>Everyone 10+</th>\n",
              "      <th>Mature 17+</th>\n",
              "      <th>Teen</th>\n",
              "      <th>Unrated</th>\n",
              "      <th>1.5 and up</th>\n",
              "      <th>1.6 and up</th>\n",
              "      <th>2.0 and up</th>\n",
              "      <th>2.0.1 and up</th>\n",
              "      <th>2.1 and up</th>\n",
              "      <th>2.2 - 7.1.1</th>\n",
              "      <th>2.2 and up</th>\n",
              "      <th>2.3 and up</th>\n",
              "      <th>2.3.3 and up</th>\n",
              "      <th>3.0 and up</th>\n",
              "      <th>3.1 and up</th>\n",
              "      <th>3.2 and up</th>\n",
              "      <th>4.0 and up</th>\n",
              "      <th>4.0.3 - 7.1.1</th>\n",
              "      <th>4.0.3 and up</th>\n",
              "      <th>4.1 - 7.1.1</th>\n",
              "      <th>4.1 and up</th>\n",
              "      <th>4.2 and up</th>\n",
              "      <th>4.3 and up</th>\n",
              "      <th>4.4 and up</th>\n",
              "      <th>4.4W and up</th>\n",
              "      <th>5.0 - 6.0</th>\n",
              "      <th>5.0 - 7.1.1</th>\n",
              "      <th>5.0 - 8.0</th>\n",
              "      <th>5.0 and up</th>\n",
              "      <th>5.1 and up</th>\n",
              "      <th>6.0 and up</th>\n",
              "      <th>7.0 - 7.1.1</th>\n",
              "      <th>7.0 and up</th>\n",
              "      <th>7.1 and up</th>\n",
              "      <th>8.0 and up</th>\n",
              "      <th>Varies with device</th>\n",
              "    </tr>\n",
              "  </thead>\n",
              "  <tbody>\n",
              "    <tr>\n",
              "      <th>0</th>\n",
              "      <td>0</td>\n",
              "      <td>4.1</td>\n",
              "      <td>159</td>\n",
              "      <td>19.0</td>\n",
              "      <td>10000</td>\n",
              "      <td>0.0</td>\n",
              "      <td>0</td>\n",
              "      <td>0</td>\n",
              "      <td>0</td>\n",
              "      <td>0</td>\n",
              "      <td>0</td>\n",
              "      <td>0</td>\n",
              "      <td>0</td>\n",
              "      <td>0</td>\n",
              "      <td>0</td>\n",
              "      <td>0</td>\n",
              "      <td>0</td>\n",
              "      <td>0</td>\n",
              "      <td>0</td>\n",
              "      <td>0</td>\n",
              "      <td>0</td>\n",
              "      <td>0</td>\n",
              "      <td>0</td>\n",
              "      <td>0</td>\n",
              "      <td>0</td>\n",
              "      <td>0</td>\n",
              "      <td>0</td>\n",
              "      <td>0</td>\n",
              "      <td>0</td>\n",
              "      <td>0</td>\n",
              "      <td>0</td>\n",
              "      <td>0</td>\n",
              "      <td>0</td>\n",
              "      <td>0</td>\n",
              "      <td>0</td>\n",
              "      <td>0</td>\n",
              "      <td>0</td>\n",
              "      <td>0</td>\n",
              "      <td>0</td>\n",
              "      <td>0</td>\n",
              "      <td>0</td>\n",
              "      <td>0</td>\n",
              "      <td>1</td>\n",
              "      <td>0</td>\n",
              "      <td>0</td>\n",
              "      <td>0</td>\n",
              "      <td>0</td>\n",
              "      <td>0</td>\n",
              "      <td>0</td>\n",
              "      <td>0</td>\n",
              "      <td>0</td>\n",
              "      <td>0</td>\n",
              "      <td>0</td>\n",
              "      <td>0</td>\n",
              "      <td>0</td>\n",
              "      <td>0</td>\n",
              "      <td>0</td>\n",
              "      <td>0</td>\n",
              "      <td>0</td>\n",
              "      <td>0</td>\n",
              "      <td>0</td>\n",
              "      <td>1</td>\n",
              "      <td>0</td>\n",
              "      <td>0</td>\n",
              "      <td>0</td>\n",
              "      <td>0</td>\n",
              "      <td>0</td>\n",
              "      <td>0</td>\n",
              "      <td>0</td>\n",
              "      <td>0</td>\n",
              "      <td>0</td>\n",
              "      <td>0</td>\n",
              "      <td>0</td>\n",
              "      <td>0</td>\n",
              "      <td>0</td>\n",
              "      <td>0</td>\n",
              "      <td>0</td>\n",
              "      <td>0</td>\n",
              "      <td>0</td>\n",
              "    </tr>\n",
              "    <tr>\n",
              "      <th>1</th>\n",
              "      <td>1</td>\n",
              "      <td>3.9</td>\n",
              "      <td>967</td>\n",
              "      <td>14.0</td>\n",
              "      <td>500000</td>\n",
              "      <td>0.0</td>\n",
              "      <td>1</td>\n",
              "      <td>1</td>\n",
              "      <td>1</td>\n",
              "      <td>0</td>\n",
              "      <td>0</td>\n",
              "      <td>0</td>\n",
              "      <td>0</td>\n",
              "      <td>0</td>\n",
              "      <td>0</td>\n",
              "      <td>0</td>\n",
              "      <td>0</td>\n",
              "      <td>0</td>\n",
              "      <td>0</td>\n",
              "      <td>0</td>\n",
              "      <td>0</td>\n",
              "      <td>0</td>\n",
              "      <td>0</td>\n",
              "      <td>0</td>\n",
              "      <td>0</td>\n",
              "      <td>0</td>\n",
              "      <td>0</td>\n",
              "      <td>0</td>\n",
              "      <td>0</td>\n",
              "      <td>0</td>\n",
              "      <td>0</td>\n",
              "      <td>0</td>\n",
              "      <td>0</td>\n",
              "      <td>0</td>\n",
              "      <td>0</td>\n",
              "      <td>0</td>\n",
              "      <td>0</td>\n",
              "      <td>0</td>\n",
              "      <td>0</td>\n",
              "      <td>0</td>\n",
              "      <td>0</td>\n",
              "      <td>0</td>\n",
              "      <td>1</td>\n",
              "      <td>0</td>\n",
              "      <td>0</td>\n",
              "      <td>0</td>\n",
              "      <td>0</td>\n",
              "      <td>0</td>\n",
              "      <td>0</td>\n",
              "      <td>0</td>\n",
              "      <td>0</td>\n",
              "      <td>0</td>\n",
              "      <td>0</td>\n",
              "      <td>0</td>\n",
              "      <td>0</td>\n",
              "      <td>0</td>\n",
              "      <td>0</td>\n",
              "      <td>0</td>\n",
              "      <td>0</td>\n",
              "      <td>0</td>\n",
              "      <td>0</td>\n",
              "      <td>1</td>\n",
              "      <td>0</td>\n",
              "      <td>0</td>\n",
              "      <td>0</td>\n",
              "      <td>0</td>\n",
              "      <td>0</td>\n",
              "      <td>0</td>\n",
              "      <td>0</td>\n",
              "      <td>0</td>\n",
              "      <td>0</td>\n",
              "      <td>0</td>\n",
              "      <td>0</td>\n",
              "      <td>0</td>\n",
              "      <td>0</td>\n",
              "      <td>0</td>\n",
              "      <td>0</td>\n",
              "      <td>0</td>\n",
              "      <td>0</td>\n",
              "    </tr>\n",
              "    <tr>\n",
              "      <th>2</th>\n",
              "      <td>2</td>\n",
              "      <td>4.7</td>\n",
              "      <td>87510</td>\n",
              "      <td>8.7</td>\n",
              "      <td>5000000</td>\n",
              "      <td>0.0</td>\n",
              "      <td>0</td>\n",
              "      <td>2</td>\n",
              "      <td>2</td>\n",
              "      <td>0</td>\n",
              "      <td>0</td>\n",
              "      <td>0</td>\n",
              "      <td>0</td>\n",
              "      <td>0</td>\n",
              "      <td>0</td>\n",
              "      <td>0</td>\n",
              "      <td>0</td>\n",
              "      <td>0</td>\n",
              "      <td>0</td>\n",
              "      <td>0</td>\n",
              "      <td>0</td>\n",
              "      <td>0</td>\n",
              "      <td>0</td>\n",
              "      <td>0</td>\n",
              "      <td>0</td>\n",
              "      <td>0</td>\n",
              "      <td>0</td>\n",
              "      <td>0</td>\n",
              "      <td>0</td>\n",
              "      <td>0</td>\n",
              "      <td>0</td>\n",
              "      <td>0</td>\n",
              "      <td>0</td>\n",
              "      <td>0</td>\n",
              "      <td>0</td>\n",
              "      <td>0</td>\n",
              "      <td>0</td>\n",
              "      <td>0</td>\n",
              "      <td>0</td>\n",
              "      <td>0</td>\n",
              "      <td>0</td>\n",
              "      <td>0</td>\n",
              "      <td>1</td>\n",
              "      <td>0</td>\n",
              "      <td>0</td>\n",
              "      <td>0</td>\n",
              "      <td>0</td>\n",
              "      <td>0</td>\n",
              "      <td>0</td>\n",
              "      <td>0</td>\n",
              "      <td>0</td>\n",
              "      <td>0</td>\n",
              "      <td>0</td>\n",
              "      <td>0</td>\n",
              "      <td>0</td>\n",
              "      <td>0</td>\n",
              "      <td>0</td>\n",
              "      <td>0</td>\n",
              "      <td>0</td>\n",
              "      <td>0</td>\n",
              "      <td>0</td>\n",
              "      <td>1</td>\n",
              "      <td>0</td>\n",
              "      <td>0</td>\n",
              "      <td>0</td>\n",
              "      <td>0</td>\n",
              "      <td>0</td>\n",
              "      <td>0</td>\n",
              "      <td>0</td>\n",
              "      <td>0</td>\n",
              "      <td>0</td>\n",
              "      <td>0</td>\n",
              "      <td>0</td>\n",
              "      <td>0</td>\n",
              "      <td>0</td>\n",
              "      <td>0</td>\n",
              "      <td>0</td>\n",
              "      <td>0</td>\n",
              "      <td>0</td>\n",
              "    </tr>\n",
              "    <tr>\n",
              "      <th>3</th>\n",
              "      <td>3</td>\n",
              "      <td>4.5</td>\n",
              "      <td>215644</td>\n",
              "      <td>25.0</td>\n",
              "      <td>50000000</td>\n",
              "      <td>0.0</td>\n",
              "      <td>0</td>\n",
              "      <td>3</td>\n",
              "      <td>3</td>\n",
              "      <td>0</td>\n",
              "      <td>0</td>\n",
              "      <td>0</td>\n",
              "      <td>0</td>\n",
              "      <td>0</td>\n",
              "      <td>0</td>\n",
              "      <td>0</td>\n",
              "      <td>0</td>\n",
              "      <td>0</td>\n",
              "      <td>0</td>\n",
              "      <td>0</td>\n",
              "      <td>0</td>\n",
              "      <td>0</td>\n",
              "      <td>0</td>\n",
              "      <td>0</td>\n",
              "      <td>0</td>\n",
              "      <td>0</td>\n",
              "      <td>0</td>\n",
              "      <td>0</td>\n",
              "      <td>0</td>\n",
              "      <td>0</td>\n",
              "      <td>0</td>\n",
              "      <td>0</td>\n",
              "      <td>0</td>\n",
              "      <td>0</td>\n",
              "      <td>0</td>\n",
              "      <td>0</td>\n",
              "      <td>0</td>\n",
              "      <td>0</td>\n",
              "      <td>0</td>\n",
              "      <td>0</td>\n",
              "      <td>0</td>\n",
              "      <td>0</td>\n",
              "      <td>0</td>\n",
              "      <td>0</td>\n",
              "      <td>0</td>\n",
              "      <td>1</td>\n",
              "      <td>0</td>\n",
              "      <td>0</td>\n",
              "      <td>0</td>\n",
              "      <td>0</td>\n",
              "      <td>0</td>\n",
              "      <td>0</td>\n",
              "      <td>0</td>\n",
              "      <td>0</td>\n",
              "      <td>0</td>\n",
              "      <td>0</td>\n",
              "      <td>0</td>\n",
              "      <td>0</td>\n",
              "      <td>0</td>\n",
              "      <td>0</td>\n",
              "      <td>0</td>\n",
              "      <td>0</td>\n",
              "      <td>0</td>\n",
              "      <td>0</td>\n",
              "      <td>1</td>\n",
              "      <td>0</td>\n",
              "      <td>0</td>\n",
              "      <td>0</td>\n",
              "      <td>0</td>\n",
              "      <td>0</td>\n",
              "      <td>0</td>\n",
              "      <td>0</td>\n",
              "      <td>0</td>\n",
              "      <td>0</td>\n",
              "      <td>0</td>\n",
              "      <td>0</td>\n",
              "      <td>0</td>\n",
              "      <td>0</td>\n",
              "      <td>0</td>\n",
              "    </tr>\n",
              "    <tr>\n",
              "      <th>4</th>\n",
              "      <td>4</td>\n",
              "      <td>4.3</td>\n",
              "      <td>967</td>\n",
              "      <td>2.8</td>\n",
              "      <td>100000</td>\n",
              "      <td>0.0</td>\n",
              "      <td>2</td>\n",
              "      <td>4</td>\n",
              "      <td>4</td>\n",
              "      <td>0</td>\n",
              "      <td>0</td>\n",
              "      <td>0</td>\n",
              "      <td>0</td>\n",
              "      <td>0</td>\n",
              "      <td>0</td>\n",
              "      <td>0</td>\n",
              "      <td>0</td>\n",
              "      <td>0</td>\n",
              "      <td>0</td>\n",
              "      <td>0</td>\n",
              "      <td>0</td>\n",
              "      <td>0</td>\n",
              "      <td>0</td>\n",
              "      <td>0</td>\n",
              "      <td>0</td>\n",
              "      <td>0</td>\n",
              "      <td>0</td>\n",
              "      <td>0</td>\n",
              "      <td>0</td>\n",
              "      <td>0</td>\n",
              "      <td>0</td>\n",
              "      <td>0</td>\n",
              "      <td>0</td>\n",
              "      <td>0</td>\n",
              "      <td>0</td>\n",
              "      <td>0</td>\n",
              "      <td>0</td>\n",
              "      <td>0</td>\n",
              "      <td>0</td>\n",
              "      <td>0</td>\n",
              "      <td>0</td>\n",
              "      <td>0</td>\n",
              "      <td>1</td>\n",
              "      <td>0</td>\n",
              "      <td>0</td>\n",
              "      <td>0</td>\n",
              "      <td>0</td>\n",
              "      <td>0</td>\n",
              "      <td>0</td>\n",
              "      <td>0</td>\n",
              "      <td>0</td>\n",
              "      <td>0</td>\n",
              "      <td>0</td>\n",
              "      <td>0</td>\n",
              "      <td>0</td>\n",
              "      <td>0</td>\n",
              "      <td>0</td>\n",
              "      <td>0</td>\n",
              "      <td>0</td>\n",
              "      <td>0</td>\n",
              "      <td>0</td>\n",
              "      <td>0</td>\n",
              "      <td>0</td>\n",
              "      <td>0</td>\n",
              "      <td>0</td>\n",
              "      <td>0</td>\n",
              "      <td>1</td>\n",
              "      <td>0</td>\n",
              "      <td>0</td>\n",
              "      <td>0</td>\n",
              "      <td>0</td>\n",
              "      <td>0</td>\n",
              "      <td>0</td>\n",
              "      <td>0</td>\n",
              "      <td>0</td>\n",
              "      <td>0</td>\n",
              "      <td>0</td>\n",
              "      <td>0</td>\n",
              "      <td>0</td>\n",
              "    </tr>\n",
              "  </tbody>\n",
              "</table>\n",
              "</div>\n",
              "      <button class=\"colab-df-convert\" onclick=\"convertToInteractive('df-b3020a25-611a-4cb0-905c-4a61a380f5f7')\"\n",
              "              title=\"Convert this dataframe to an interactive table.\"\n",
              "              style=\"display:none;\">\n",
              "        \n",
              "  <svg xmlns=\"http://www.w3.org/2000/svg\" height=\"24px\"viewBox=\"0 0 24 24\"\n",
              "       width=\"24px\">\n",
              "    <path d=\"M0 0h24v24H0V0z\" fill=\"none\"/>\n",
              "    <path d=\"M18.56 5.44l.94 2.06.94-2.06 2.06-.94-2.06-.94-.94-2.06-.94 2.06-2.06.94zm-11 1L8.5 8.5l.94-2.06 2.06-.94-2.06-.94L8.5 2.5l-.94 2.06-2.06.94zm10 10l.94 2.06.94-2.06 2.06-.94-2.06-.94-.94-2.06-.94 2.06-2.06.94z\"/><path d=\"M17.41 7.96l-1.37-1.37c-.4-.4-.92-.59-1.43-.59-.52 0-1.04.2-1.43.59L10.3 9.45l-7.72 7.72c-.78.78-.78 2.05 0 2.83L4 21.41c.39.39.9.59 1.41.59.51 0 1.02-.2 1.41-.59l7.78-7.78 2.81-2.81c.8-.78.8-2.07 0-2.86zM5.41 20L4 18.59l7.72-7.72 1.47 1.35L5.41 20z\"/>\n",
              "  </svg>\n",
              "      </button>\n",
              "      \n",
              "  <style>\n",
              "    .colab-df-container {\n",
              "      display:flex;\n",
              "      flex-wrap:wrap;\n",
              "      gap: 12px;\n",
              "    }\n",
              "\n",
              "    .colab-df-convert {\n",
              "      background-color: #E8F0FE;\n",
              "      border: none;\n",
              "      border-radius: 50%;\n",
              "      cursor: pointer;\n",
              "      display: none;\n",
              "      fill: #1967D2;\n",
              "      height: 32px;\n",
              "      padding: 0 0 0 0;\n",
              "      width: 32px;\n",
              "    }\n",
              "\n",
              "    .colab-df-convert:hover {\n",
              "      background-color: #E2EBFA;\n",
              "      box-shadow: 0px 1px 2px rgba(60, 64, 67, 0.3), 0px 1px 3px 1px rgba(60, 64, 67, 0.15);\n",
              "      fill: #174EA6;\n",
              "    }\n",
              "\n",
              "    [theme=dark] .colab-df-convert {\n",
              "      background-color: #3B4455;\n",
              "      fill: #D2E3FC;\n",
              "    }\n",
              "\n",
              "    [theme=dark] .colab-df-convert:hover {\n",
              "      background-color: #434B5C;\n",
              "      box-shadow: 0px 1px 3px 1px rgba(0, 0, 0, 0.15);\n",
              "      filter: drop-shadow(0px 1px 2px rgba(0, 0, 0, 0.3));\n",
              "      fill: #FFFFFF;\n",
              "    }\n",
              "  </style>\n",
              "\n",
              "      <script>\n",
              "        const buttonEl =\n",
              "          document.querySelector('#df-b3020a25-611a-4cb0-905c-4a61a380f5f7 button.colab-df-convert');\n",
              "        buttonEl.style.display =\n",
              "          google.colab.kernel.accessAllowed ? 'block' : 'none';\n",
              "\n",
              "        async function convertToInteractive(key) {\n",
              "          const element = document.querySelector('#df-b3020a25-611a-4cb0-905c-4a61a380f5f7');\n",
              "          const dataTable =\n",
              "            await google.colab.kernel.invokeFunction('convertToInteractive',\n",
              "                                                     [key], {});\n",
              "          if (!dataTable) return;\n",
              "\n",
              "          const docLinkHtml = 'Like what you see? Visit the ' +\n",
              "            '<a target=\"_blank\" href=https://colab.research.google.com/notebooks/data_table.ipynb>data table notebook</a>'\n",
              "            + ' to learn more about interactive tables.';\n",
              "          element.innerHTML = '';\n",
              "          dataTable['output_type'] = 'display_data';\n",
              "          await google.colab.output.renderOutput(dataTable, element);\n",
              "          const docLink = document.createElement('div');\n",
              "          docLink.innerHTML = docLinkHtml;\n",
              "          element.appendChild(docLink);\n",
              "        }\n",
              "      </script>\n",
              "    </div>\n",
              "  </div>\n",
              "  "
            ]
          },
          "metadata": {},
          "execution_count": 12
        }
      ]
    },
    {
      "cell_type": "markdown",
      "source": [
        "## 1.1. С помощью sklearn.preprocessing.StandardScaler нормализовать значения признаков и построить для нормализованного датасета KNeighborsClassifier (без использования конвееров)"
      ],
      "metadata": {
        "id": "y_8r0naj6ZXR"
      }
    },
    {
      "cell_type": "code",
      "source": [
        "X_train, X_test, y_train, y_test = train_test_split(df.drop(\"Installs\", axis = 1), df[\"Installs\"], random_state = 0)"
      ],
      "metadata": {
        "id": "9jODFRaWyDRb"
      },
      "execution_count": null,
      "outputs": []
    },
    {
      "cell_type": "code",
      "source": [
        "# нормируем данные\n",
        "scaler = StandardScaler()\n",
        "scaler.fit(X_train) \n",
        "X_train_scaled = scaler.transform(X_train)\n",
        "X_test_scaled = scaler.transform(X_test)"
      ],
      "metadata": {
        "id": "sV_1tUwhyb-8"
      },
      "execution_count": null,
      "outputs": []
    },
    {
      "cell_type": "code",
      "source": [
        "knn = KNeighborsClassifier() \n",
        "knn.fit(X_train_scaled, y_train)\n",
        "knn_predict = knn.predict(X_test_scaled)\n",
        "\n",
        "print(classification_report(y_test, knn_predict))"
      ],
      "metadata": {
        "id": "Uz-3bQ-7yjnJ",
        "colab": {
          "base_uri": "https://localhost:8080/"
        },
        "outputId": "9dae359d-4695-48a0-ec2d-377d25a2a618"
      },
      "execution_count": null,
      "outputs": [
        {
          "output_type": "stream",
          "name": "stdout",
          "text": [
            "              precision    recall  f1-score   support\n",
            "\n",
            "           0       0.00      0.00      0.00         4\n",
            "           1       0.04      0.07      0.05        15\n",
            "           5       0.00      0.00      0.00        15\n",
            "          10       0.10      0.20      0.13        89\n",
            "          50       0.07      0.10      0.08        51\n",
            "         100       0.16      0.24      0.20       178\n",
            "         500       0.08      0.08      0.08        83\n",
            "        1000       0.17      0.17      0.17       229\n",
            "        5000       0.12      0.08      0.09       132\n",
            "       10000       0.20      0.17      0.18       279\n",
            "       50000       0.09      0.05      0.07       116\n",
            "      100000       0.18      0.17      0.17       282\n",
            "      500000       0.11      0.06      0.08       131\n",
            "     1000000       0.30      0.32      0.31       395\n",
            "     5000000       0.28      0.24      0.26       186\n",
            "    10000000       0.36      0.35      0.36       329\n",
            "    50000000       0.25      0.17      0.20        65\n",
            "   100000000       0.66      0.64      0.65        96\n",
            "   500000000       0.85      0.73      0.79        15\n",
            "  1000000000       0.70      0.35      0.47        20\n",
            "\n",
            "    accuracy                           0.22      2710\n",
            "   macro avg       0.24      0.21      0.22      2710\n",
            "weighted avg       0.23      0.22      0.23      2710\n",
            "\n"
          ]
        }
      ]
    },
    {
      "cell_type": "markdown",
      "source": [
        "## 1.2. То же самое и использованием sklearn.pipeline.Pipeline"
      ],
      "metadata": {
        "id": "g6vkcC2G6zy9"
      }
    },
    {
      "cell_type": "code",
      "source": [
        "from sklearn import pipeline\n",
        "\n",
        "knn_pipe = pipeline.Pipeline([\n",
        "    ('scaler', StandardScaler()), \n",
        "    ('knn', KNeighborsClassifier())\n",
        "])\n",
        "knn_pipe.fit(X_train_scaled,y_train) \n",
        "knn_pipe_predict = knn_pipe.predict(X_test_scaled)\n",
        "\n",
        "print(classification_report(y_test, knn_pipe_predict))"
      ],
      "metadata": {
        "colab": {
          "base_uri": "https://localhost:8080/"
        },
        "id": "3PLOJFyfyl1L",
        "outputId": "4d2215b3-8c99-4dcd-a490-fd5d36306c12"
      },
      "execution_count": null,
      "outputs": [
        {
          "output_type": "stream",
          "name": "stdout",
          "text": [
            "              precision    recall  f1-score   support\n",
            "\n",
            "           0       0.00      0.00      0.00         4\n",
            "           1       0.04      0.07      0.05        15\n",
            "           5       0.00      0.00      0.00        15\n",
            "          10       0.10      0.20      0.13        89\n",
            "          50       0.07      0.10      0.08        51\n",
            "         100       0.16      0.24      0.20       178\n",
            "         500       0.08      0.08      0.08        83\n",
            "        1000       0.17      0.17      0.17       229\n",
            "        5000       0.12      0.08      0.09       132\n",
            "       10000       0.20      0.17      0.18       279\n",
            "       50000       0.09      0.05      0.07       116\n",
            "      100000       0.18      0.17      0.17       282\n",
            "      500000       0.11      0.06      0.08       131\n",
            "     1000000       0.30      0.32      0.31       395\n",
            "     5000000       0.28      0.24      0.26       186\n",
            "    10000000       0.36      0.35      0.36       329\n",
            "    50000000       0.25      0.17      0.20        65\n",
            "   100000000       0.66      0.64      0.65        96\n",
            "   500000000       0.85      0.73      0.79        15\n",
            "  1000000000       0.70      0.35      0.47        20\n",
            "\n",
            "    accuracy                           0.22      2710\n",
            "   macro avg       0.24      0.21      0.22      2710\n",
            "weighted avg       0.23      0.22      0.23      2710\n",
            "\n"
          ]
        }
      ]
    },
    {
      "cell_type": "markdown",
      "source": [
        "## 1.3. С помощью GridSearchCV произвести подбор гиперпараметра KNeighborsClassifier (n_neighbors) и выведите значение гиперпараметра и метрику для наилучшей модели"
      ],
      "metadata": {
        "id": "YTuri6CE7PDJ"
      }
    },
    {
      "cell_type": "code",
      "source": [
        "knn_params = {'n_neighbors': range(1, 20)} \n",
        "knn_grid = GridSearchCV(KNeighborsClassifier(), knn_params) \n",
        "knn_grid.fit(X_train_scaled, y_train)\n",
        "knn_grid.best_params_, knn_grid.best_score_"
      ],
      "metadata": {
        "colab": {
          "base_uri": "https://localhost:8080/"
        },
        "id": "L-mB3GsYy1Up",
        "outputId": "16b4d890-19ee-4a8d-85de-7fc48508fc54"
      },
      "execution_count": null,
      "outputs": [
        {
          "output_type": "execute_result",
          "data": {
            "text/plain": [
              "({'n_neighbors': 1}, 0.28954489544895445)"
            ]
          },
          "metadata": {},
          "execution_count": 17
        }
      ]
    },
    {
      "cell_type": "markdown",
      "source": [
        "## 2.1. Продемонстрировать работу DecisionTreeClassifier, посчитать метрики качества на отложенной выборке"
      ],
      "metadata": {
        "id": "jHj5unDQ8ThU"
      }
    },
    {
      "cell_type": "code",
      "source": [
        "decision_tree = DecisionTreeClassifier()\n",
        "decision_tree.fit(X_train_scaled, y_train)\n",
        "decision_tree_pred = decision_tree.predict(X_test_scaled)\n",
        "\n",
        "print(classification_report(y_test, decision_tree_pred))"
      ],
      "metadata": {
        "colab": {
          "base_uri": "https://localhost:8080/"
        },
        "id": "V3yB-2OX78gR",
        "outputId": "1f707b04-418b-456e-ef69-8f19c2d56bfb"
      },
      "execution_count": null,
      "outputs": [
        {
          "output_type": "stream",
          "name": "stdout",
          "text": [
            "              precision    recall  f1-score   support\n",
            "\n",
            "           0       0.00      0.00      0.00         4\n",
            "           1       0.20      0.13      0.16        15\n",
            "           5       0.14      0.20      0.16        15\n",
            "          10       0.32      0.31      0.32        89\n",
            "          50       0.06      0.06      0.06        51\n",
            "         100       0.42      0.44      0.43       178\n",
            "         500       0.14      0.14      0.14        83\n",
            "        1000       0.43      0.42      0.43       229\n",
            "        5000       0.31      0.29      0.30       132\n",
            "       10000       0.54      0.53      0.54       279\n",
            "       50000       0.28      0.28      0.28       116\n",
            "      100000       0.55      0.57      0.56       282\n",
            "      500000       0.33      0.32      0.32       131\n",
            "     1000000       0.64      0.62      0.63       395\n",
            "     5000000       0.46      0.54      0.50       186\n",
            "    10000000       0.75      0.70      0.72       329\n",
            "    50000000       0.61      0.62      0.61        65\n",
            "   100000000       0.83      0.86      0.85        96\n",
            "   500000000       0.81      0.87      0.84        15\n",
            "  1000000000       1.00      0.95      0.97        20\n",
            "\n",
            "    accuracy                           0.51      2710\n",
            "   macro avg       0.44      0.44      0.44      2710\n",
            "weighted avg       0.51      0.51      0.51      2710\n",
            "\n"
          ]
        }
      ]
    },
    {
      "cell_type": "markdown",
      "source": [
        "## 2.2. С помощью GridSearchCV произвести подбор гиперпараметров для поиска наилучшего дерева (перебрать max_depth, max_features и может быть что-то ещё)"
      ],
      "metadata": {
        "id": "D5qkvfNp9RTI"
      }
    },
    {
      "cell_type": "code",
      "source": [
        "tree = DecisionTreeClassifier(max_depth = 3, random_state = 17)\n",
        "tree_params = { \n",
        "    'max_depth': range(1, 25),\n",
        "    'criterion': ('gini', 'entropy')\n",
        "    }\n",
        "tree_grid = GridSearchCV(tree, tree_params) \n",
        "tree_grid.fit(X_train_scaled, y_train)\n",
        "tree_grid.best_params_, tree_grid.best_score_"
      ],
      "metadata": {
        "colab": {
          "base_uri": "https://localhost:8080/"
        },
        "id": "qfaVceTJTJ30",
        "outputId": "bb2798bd-a926-400e-9682-6cc832ef8f86"
      },
      "execution_count": null,
      "outputs": [
        {
          "output_type": "execute_result",
          "data": {
            "text/plain": [
              "({'criterion': 'gini', 'max_depth': 6}, 0.5312423124231243)"
            ]
          },
          "metadata": {},
          "execution_count": 19
        }
      ]
    },
    {
      "cell_type": "code",
      "source": [
        "print(classification_report(tree_grid.predict(X_test_scaled), y_test))"
      ],
      "metadata": {
        "colab": {
          "base_uri": "https://localhost:8080/"
        },
        "id": "I3fFRrfMVMpv",
        "outputId": "fe1315f7-c539-416e-8c88-551a84647871"
      },
      "execution_count": null,
      "outputs": [
        {
          "output_type": "stream",
          "name": "stdout",
          "text": [
            "              precision    recall  f1-score   support\n",
            "\n",
            "           0       0.00      0.00      0.00         0\n",
            "           1       0.00      0.00      0.00         0\n",
            "           5       0.00      0.00      0.00         0\n",
            "          10       0.52      0.41      0.46       113\n",
            "          50       0.02      0.25      0.04         4\n",
            "         100       0.66      0.45      0.53       265\n",
            "         500       0.00      0.00      0.00         0\n",
            "        1000       0.68      0.45      0.54       346\n",
            "        5000       0.23      0.39      0.29        79\n",
            "       10000       0.62      0.63      0.62       278\n",
            "       50000       0.06      0.47      0.11        15\n",
            "      100000       0.83      0.53      0.64       445\n",
            "      500000       0.01      0.50      0.02         2\n",
            "     1000000       0.76      0.62      0.69       482\n",
            "     5000000       0.23      0.39      0.29       109\n",
            "    10000000       0.81      0.65      0.72       408\n",
            "    50000000       0.23      0.50      0.32        30\n",
            "   100000000       0.74      0.66      0.70       107\n",
            "   500000000       0.67      0.37      0.48        27\n",
            "  1000000000       0.00      0.00      0.00         0\n",
            "\n",
            "    accuracy                           0.54      2710\n",
            "   macro avg       0.35      0.36      0.32      2710\n",
            "weighted avg       0.69      0.54      0.60      2710\n",
            "\n"
          ]
        }
      ]
    },
    {
      "cell_type": "markdown",
      "source": [
        "## 2.3. Для полученного наилучшего дерева построить график feature_importances и дополнительно напечатать 3 наиболее важных признака, отсортировав их по убыванию важности"
      ],
      "metadata": {
        "id": "RmkNiHVc9ra-"
      }
    },
    {
      "cell_type": "code",
      "source": [
        "decision_tree.feature_importances_ "
      ],
      "metadata": {
        "colab": {
          "base_uri": "https://localhost:8080/"
        },
        "id": "DYZPo-tcVU5R",
        "outputId": "58600d9b-edc8-404e-ca89-1142eec82327"
      },
      "execution_count": null,
      "outputs": [
        {
          "output_type": "execute_result",
          "data": {
            "text/plain": [
              "array([9.34358717e-02, 7.28564686e-02, 3.78353170e-01, 6.53166219e-02,\n",
              "       2.19628598e-02, 4.27592376e-02, 7.94092175e-02, 7.22363536e-02,\n",
              "       6.78286352e-04, 5.49753255e-04, 9.84910941e-04, 3.32211216e-03,\n",
              "       1.36518380e-03, 1.53948919e-03, 2.40985152e-03, 1.42647224e-03,\n",
              "       5.63221291e-04, 8.87598994e-04, 7.12608194e-03, 3.08540836e-03,\n",
              "       1.23079605e-03, 4.32479750e-03, 3.27521333e-03, 1.32822294e-03,\n",
              "       9.76786939e-04, 4.20472542e-03, 1.01278489e-03, 2.83085707e-03,\n",
              "       2.27719585e-03, 6.31000305e-04, 3.23604854e-03, 3.97599261e-03,\n",
              "       5.23769600e-03, 4.41870270e-03, 3.20582725e-03, 4.74447010e-03,\n",
              "       7.03565218e-03, 3.69996963e-03, 1.66566787e-03, 1.24038110e-03,\n",
              "       7.40162833e-03, 5.98212277e-03, 3.68798804e-03, 1.25248723e-03,\n",
              "       4.95011931e-03, 0.00000000e+00, 0.00000000e+00, 9.90955969e-04,\n",
              "       4.22168242e-04, 0.00000000e+00, 9.80863113e-04, 0.00000000e+00,\n",
              "       2.27131475e-03, 3.99648435e-03, 3.01219616e-03, 1.64655264e-03,\n",
              "       0.00000000e+00, 1.04882178e-03, 7.24740608e-03, 0.00000000e+00,\n",
              "       9.30818802e-03, 2.23476933e-04, 9.64967554e-03, 4.65568239e-03,\n",
              "       3.34954086e-03, 6.48526027e-03, 0.00000000e+00, 0.00000000e+00,\n",
              "       0.00000000e+00, 0.00000000e+00, 2.80251637e-03, 2.23805576e-04,\n",
              "       2.12702819e-03, 0.00000000e+00, 6.48136595e-04, 0.00000000e+00,\n",
              "       0.00000000e+00, 4.81462164e-03])"
            ]
          },
          "metadata": {},
          "execution_count": 21
        }
      ]
    },
    {
      "cell_type": "code",
      "source": [
        "name_col = df.drop(columns='Installs').columns\n",
        "name_col"
      ],
      "metadata": {
        "colab": {
          "base_uri": "https://localhost:8080/"
        },
        "id": "lTa7-tijXHvX",
        "outputId": "ac509288-3999-49f1-fa9b-498dad92e723"
      },
      "execution_count": null,
      "outputs": [
        {
          "output_type": "execute_result",
          "data": {
            "text/plain": [
              "Index(['App', 'Rating', 'Reviews', 'Size', 'Price', 'Genres', 'Last Updated',\n",
              "       'Current Ver', 'AUTO_AND_VEHICLES', 'BEAUTY', 'BOOKS_AND_REFERENCE',\n",
              "       'BUSINESS', 'COMICS', 'COMMUNICATION', 'DATING', 'EDUCATION',\n",
              "       'ENTERTAINMENT', 'EVENTS', 'FAMILY', 'FINANCE', 'FOOD_AND_DRINK',\n",
              "       'GAME', 'HEALTH_AND_FITNESS', 'HOUSE_AND_HOME', 'LIBRARIES_AND_DEMO',\n",
              "       'LIFESTYLE', 'MAPS_AND_NAVIGATION', 'MEDICAL', 'NEWS_AND_MAGAZINES',\n",
              "       'PARENTING', 'PERSONALIZATION', 'PHOTOGRAPHY', 'PRODUCTIVITY',\n",
              "       'SHOPPING', 'SOCIAL', 'SPORTS', 'TOOLS', 'TRAVEL_AND_LOCAL',\n",
              "       'VIDEO_PLAYERS', 'WEATHER', 'Paid', 'Everyone', 'Everyone 10+',\n",
              "       'Mature 17+', 'Teen', 'Unrated', '1.5 and up', '1.6 and up',\n",
              "       '2.0 and up', '2.0.1 and up', '2.1 and up', '2.2 - 7.1.1', '2.2 and up',\n",
              "       '2.3 and up', '2.3.3 and up', '3.0 and up', '3.1 and up', '3.2 and up',\n",
              "       '4.0 and up', '4.0.3 - 7.1.1', '4.0.3 and up', '4.1 - 7.1.1',\n",
              "       '4.1 and up', '4.2 and up', '4.3 and up', '4.4 and up', '4.4W and up',\n",
              "       '5.0 - 6.0', '5.0 - 7.1.1', '5.0 - 8.0', '5.0 and up', '5.1 and up',\n",
              "       '6.0 and up', '7.0 - 7.1.1', '7.0 and up', '7.1 and up', '8.0 and up',\n",
              "       'Varies with device'],\n",
              "      dtype='object')"
            ]
          },
          "metadata": {},
          "execution_count": 22
        }
      ]
    },
    {
      "cell_type": "code",
      "source": [
        "y = pd.Series(data=decision_tree.feature_importances_, index=name_col)\n",
        "ind = y[:] == 0\n",
        "y = y[~ind]"
      ],
      "metadata": {
        "id": "4PLczzcJXbB5"
      },
      "execution_count": null,
      "outputs": []
    },
    {
      "cell_type": "code",
      "source": [
        "x = range(len(y))\n",
        "f, ax = plt.subplots(figsize=(25, 7))\n",
        "plt.bar(x, y)\n",
        "plt.xticks(x, y.index, rotation = 45)"
      ],
      "metadata": {
        "colab": {
          "base_uri": "https://localhost:8080/",
          "height": 1000
        },
        "id": "TAtcBP05X1jm",
        "outputId": "ef135891-cbbf-48e6-d24b-c569e1f388ac"
      },
      "execution_count": null,
      "outputs": [
        {
          "output_type": "execute_result",
          "data": {
            "text/plain": [
              "([<matplotlib.axis.XTick at 0x7f00c1c09c90>,\n",
              "  <matplotlib.axis.XTick at 0x7f00c1c09c50>,\n",
              "  <matplotlib.axis.XTick at 0x7f00c1bb2e10>,\n",
              "  <matplotlib.axis.XTick at 0x7f00c1ae9bd0>,\n",
              "  <matplotlib.axis.XTick at 0x7f00c1af8090>,\n",
              "  <matplotlib.axis.XTick at 0x7f00c1af8690>,\n",
              "  <matplotlib.axis.XTick at 0x7f00c1af8c10>,\n",
              "  <matplotlib.axis.XTick at 0x7f00c1b010d0>,\n",
              "  <matplotlib.axis.XTick at 0x7f00c1af8950>,\n",
              "  <matplotlib.axis.XTick at 0x7f00c1b011d0>,\n",
              "  <matplotlib.axis.XTick at 0x7f00c1b01990>,\n",
              "  <matplotlib.axis.XTick at 0x7f00c1b01ed0>,\n",
              "  <matplotlib.axis.XTick at 0x7f00c1b08450>,\n",
              "  <matplotlib.axis.XTick at 0x7f00c1b08990>,\n",
              "  <matplotlib.axis.XTick at 0x7f00c1b08ed0>,\n",
              "  <matplotlib.axis.XTick at 0x7f00c1b0f450>,\n",
              "  <matplotlib.axis.XTick at 0x7f00c1b0f990>,\n",
              "  <matplotlib.axis.XTick at 0x7f00c1b0fed0>,\n",
              "  <matplotlib.axis.XTick at 0x7f00c1b0fa10>,\n",
              "  <matplotlib.axis.XTick at 0x7f00c1b08510>,\n",
              "  <matplotlib.axis.XTick at 0x7f00c1ae9b50>,\n",
              "  <matplotlib.axis.XTick at 0x7f00c1b18610>,\n",
              "  <matplotlib.axis.XTick at 0x7f00c1b18b50>,\n",
              "  <matplotlib.axis.XTick at 0x7f00c1b18d90>,\n",
              "  <matplotlib.axis.XTick at 0x7f00c1aa2610>,\n",
              "  <matplotlib.axis.XTick at 0x7f00c1aa2b50>,\n",
              "  <matplotlib.axis.XTick at 0x7f00c1aa2d90>,\n",
              "  <matplotlib.axis.XTick at 0x7f00c1aaa610>,\n",
              "  <matplotlib.axis.XTick at 0x7f00c1aa2210>,\n",
              "  <matplotlib.axis.XTick at 0x7f00c1b18390>,\n",
              "  <matplotlib.axis.XTick at 0x7f00c1aaa950>,\n",
              "  <matplotlib.axis.XTick at 0x7f00c1aaa050>,\n",
              "  <matplotlib.axis.XTick at 0x7f00c1ab2310>,\n",
              "  <matplotlib.axis.XTick at 0x7f00c1ab27d0>,\n",
              "  <matplotlib.axis.XTick at 0x7f00c1ab2d10>,\n",
              "  <matplotlib.axis.XTick at 0x7f00c1aba310>,\n",
              "  <matplotlib.axis.XTick at 0x7f00c1aba7d0>,\n",
              "  <matplotlib.axis.XTick at 0x7f00c1abad10>,\n",
              "  <matplotlib.axis.XTick at 0x7f00c1aba550>,\n",
              "  <matplotlib.axis.XTick at 0x7f00c1ab22d0>,\n",
              "  <matplotlib.axis.XTick at 0x7f00c1aaac10>,\n",
              "  <matplotlib.axis.XTick at 0x7f00c1b188d0>,\n",
              "  <matplotlib.axis.XTick at 0x7f00c1ac1690>,\n",
              "  <matplotlib.axis.XTick at 0x7f00c1ac1bd0>,\n",
              "  <matplotlib.axis.XTick at 0x7f00c1acc090>,\n",
              "  <matplotlib.axis.XTick at 0x7f00c1acc690>,\n",
              "  <matplotlib.axis.XTick at 0x7f00c1accbd0>,\n",
              "  <matplotlib.axis.XTick at 0x7f00c1ad4090>,\n",
              "  <matplotlib.axis.XTick at 0x7f00c1acc5d0>,\n",
              "  <matplotlib.axis.XTick at 0x7f00c1ac1610>,\n",
              "  <matplotlib.axis.XTick at 0x7f00c1aaaa10>,\n",
              "  <matplotlib.axis.XTick at 0x7f00c1ad4850>,\n",
              "  <matplotlib.axis.XTick at 0x7f00c1ad4e10>,\n",
              "  <matplotlib.axis.XTick at 0x7f00c1adc390>,\n",
              "  <matplotlib.axis.XTick at 0x7f00c1adc8d0>,\n",
              "  <matplotlib.axis.XTick at 0x7f00c1adce10>,\n",
              "  <matplotlib.axis.XTick at 0x7f00c1a63390>,\n",
              "  <matplotlib.axis.XTick at 0x7f00c1a638d0>,\n",
              "  <matplotlib.axis.XTick at 0x7f00c1a63ed0>,\n",
              "  <matplotlib.axis.XTick at 0x7f00c1adc410>,\n",
              "  <matplotlib.axis.XTick at 0x7f00c1ab2d90>,\n",
              "  <matplotlib.axis.XTick at 0x7f00c1a6c390>,\n",
              "  <matplotlib.axis.XTick at 0x7f00c1a6c990>,\n",
              "  <matplotlib.axis.XTick at 0x7f00c1a6c850>,\n",
              "  <matplotlib.axis.XTick at 0x7f00c1a725d0>],\n",
              " [Text(0, 0, 'App'),\n",
              "  Text(0, 0, 'Rating'),\n",
              "  Text(0, 0, 'Reviews'),\n",
              "  Text(0, 0, 'Size'),\n",
              "  Text(0, 0, 'Price'),\n",
              "  Text(0, 0, 'Genres'),\n",
              "  Text(0, 0, 'Last Updated'),\n",
              "  Text(0, 0, 'Current Ver'),\n",
              "  Text(0, 0, 'AUTO_AND_VEHICLES'),\n",
              "  Text(0, 0, 'BEAUTY'),\n",
              "  Text(0, 0, 'BOOKS_AND_REFERENCE'),\n",
              "  Text(0, 0, 'BUSINESS'),\n",
              "  Text(0, 0, 'COMICS'),\n",
              "  Text(0, 0, 'COMMUNICATION'),\n",
              "  Text(0, 0, 'DATING'),\n",
              "  Text(0, 0, 'EDUCATION'),\n",
              "  Text(0, 0, 'ENTERTAINMENT'),\n",
              "  Text(0, 0, 'EVENTS'),\n",
              "  Text(0, 0, 'FAMILY'),\n",
              "  Text(0, 0, 'FINANCE'),\n",
              "  Text(0, 0, 'FOOD_AND_DRINK'),\n",
              "  Text(0, 0, 'GAME'),\n",
              "  Text(0, 0, 'HEALTH_AND_FITNESS'),\n",
              "  Text(0, 0, 'HOUSE_AND_HOME'),\n",
              "  Text(0, 0, 'LIBRARIES_AND_DEMO'),\n",
              "  Text(0, 0, 'LIFESTYLE'),\n",
              "  Text(0, 0, 'MAPS_AND_NAVIGATION'),\n",
              "  Text(0, 0, 'MEDICAL'),\n",
              "  Text(0, 0, 'NEWS_AND_MAGAZINES'),\n",
              "  Text(0, 0, 'PARENTING'),\n",
              "  Text(0, 0, 'PERSONALIZATION'),\n",
              "  Text(0, 0, 'PHOTOGRAPHY'),\n",
              "  Text(0, 0, 'PRODUCTIVITY'),\n",
              "  Text(0, 0, 'SHOPPING'),\n",
              "  Text(0, 0, 'SOCIAL'),\n",
              "  Text(0, 0, 'SPORTS'),\n",
              "  Text(0, 0, 'TOOLS'),\n",
              "  Text(0, 0, 'TRAVEL_AND_LOCAL'),\n",
              "  Text(0, 0, 'VIDEO_PLAYERS'),\n",
              "  Text(0, 0, 'WEATHER'),\n",
              "  Text(0, 0, 'Paid'),\n",
              "  Text(0, 0, 'Everyone'),\n",
              "  Text(0, 0, 'Everyone 10+'),\n",
              "  Text(0, 0, 'Mature 17+'),\n",
              "  Text(0, 0, 'Teen'),\n",
              "  Text(0, 0, '1.6 and up'),\n",
              "  Text(0, 0, '2.0 and up'),\n",
              "  Text(0, 0, '2.1 and up'),\n",
              "  Text(0, 0, '2.2 and up'),\n",
              "  Text(0, 0, '2.3 and up'),\n",
              "  Text(0, 0, '2.3.3 and up'),\n",
              "  Text(0, 0, '3.0 and up'),\n",
              "  Text(0, 0, '3.2 and up'),\n",
              "  Text(0, 0, '4.0 and up'),\n",
              "  Text(0, 0, '4.0.3 and up'),\n",
              "  Text(0, 0, '4.1 - 7.1.1'),\n",
              "  Text(0, 0, '4.1 and up'),\n",
              "  Text(0, 0, '4.2 and up'),\n",
              "  Text(0, 0, '4.3 and up'),\n",
              "  Text(0, 0, '4.4 and up'),\n",
              "  Text(0, 0, '5.0 and up'),\n",
              "  Text(0, 0, '5.1 and up'),\n",
              "  Text(0, 0, '6.0 and up'),\n",
              "  Text(0, 0, '7.0 and up'),\n",
              "  Text(0, 0, 'Varies with device')])"
            ]
          },
          "metadata": {},
          "execution_count": 24
        },
        {
          "output_type": "display_data",
          "data": {
            "text/plain": [
              "<Figure size 1800x504 with 1 Axes>"
            ],
            "image/png": "[encoded data removed]"
          },
          "metadata": {
            "needs_background": "light"
          }
        }
      ]
    },
    {
      "cell_type": "code",
      "source": [
        "y.sort_values().iloc[-4:-1]"
      ],
      "metadata": {
        "colab": {
          "base_uri": "https://localhost:8080/"
        },
        "id": "82L3-X9iX7_5",
        "outputId": "011b1802-0a8d-4236-eda6-d0955954bac4"
      },
      "execution_count": null,
      "outputs": [
        {
          "output_type": "execute_result",
          "data": {
            "text/plain": [
              "Rating          0.072856\n",
              "Last Updated    0.079409\n",
              "App             0.093436\n",
              "dtype: float64"
            ]
          },
          "metadata": {},
          "execution_count": 25
        }
      ]
    },
    {
      "cell_type": "markdown",
      "source": [
        "## 3.1. Продемонстрировать работу случайного леса RandomForestClassifier"
      ],
      "metadata": {
        "id": "qg7pHNgb92Tx"
      }
    },
    {
      "cell_type": "code",
      "source": [
        "forest = RandomForestClassifier(n_estimators=20, random_state=17)\n",
        "forest.fit(X_train_scaled, y_train)\n",
        "print(classification_report(y_test, forest.predict(X_test_scaled)))"
      ],
      "metadata": {
        "colab": {
          "base_uri": "https://localhost:8080/"
        },
        "id": "coOyn56Jlvce",
        "outputId": "fc76acad-aac9-42ae-efe3-4a462edc1ce9"
      },
      "execution_count": null,
      "outputs": [
        {
          "output_type": "stream",
          "name": "stdout",
          "text": [
            "              precision    recall  f1-score   support\n",
            "\n",
            "           0       0.00      0.00      0.00         4\n",
            "           1       0.50      0.20      0.29        15\n",
            "           5       0.10      0.07      0.08        15\n",
            "          10       0.33      0.43      0.37        89\n",
            "          50       0.08      0.04      0.05        51\n",
            "         100       0.41      0.53      0.46       178\n",
            "         500       0.17      0.10      0.12        83\n",
            "        1000       0.42      0.53      0.47       229\n",
            "        5000       0.32      0.16      0.21       132\n",
            "       10000       0.54      0.60      0.57       279\n",
            "       50000       0.38      0.16      0.22       116\n",
            "      100000       0.52      0.69      0.59       282\n",
            "      500000       0.35      0.17      0.23       131\n",
            "     1000000       0.64      0.80      0.71       395\n",
            "     5000000       0.60      0.40      0.48       186\n",
            "    10000000       0.73      0.78      0.75       329\n",
            "    50000000       0.74      0.48      0.58        65\n",
            "   100000000       0.93      0.88      0.90        96\n",
            "   500000000       1.00      0.80      0.89        15\n",
            "  1000000000       1.00      0.95      0.97        20\n",
            "\n",
            "    accuracy                           0.55      2710\n",
            "   macro avg       0.49      0.44      0.45      2710\n",
            "weighted avg       0.53      0.55      0.53      2710\n",
            "\n"
          ]
        }
      ]
    },
    {
      "cell_type": "markdown",
      "source": [
        "## 3.2. С помощью GridSearchCV произвести подбор гиперпараметров для поиск наилучшего леса, посмотреть насколько улучшились метрики"
      ],
      "metadata": {
        "id": "dlclWidi-RnS"
      }
    },
    {
      "cell_type": "code",
      "source": [
        "forest_params = {\n",
        "    'max_depth': range(1, 20),\n",
        "    'max_features': range(3, 15)\n",
        "}\n",
        "forest_grid = GridSearchCV(forest, forest_params, cv=5)\n",
        "forest_grid.fit(X_train_scaled, y_train)"
      ],
      "metadata": {
        "id": "vU9igc2Fl4-u",
        "colab": {
          "base_uri": "https://localhost:8080/"
        },
        "outputId": "07cdd8c0-a481-4349-ff80-bf8625b40790"
      },
      "execution_count": null,
      "outputs": [
        {
          "output_type": "execute_result",
          "data": {
            "text/plain": [
              "GridSearchCV(cv=5,\n",
              "             estimator=RandomForestClassifier(n_estimators=20, random_state=17),\n",
              "             param_grid={'max_depth': range(1, 20),\n",
              "                         'max_features': range(3, 15)})"
            ]
          },
          "metadata": {},
          "execution_count": 27
        }
      ]
    },
    {
      "cell_type": "code",
      "source": [
        "forest_grid.best_params_, forest_grid.best_score_ "
      ],
      "metadata": {
        "id": "znAIsauGl7xF",
        "colab": {
          "base_uri": "https://localhost:8080/"
        },
        "outputId": "53ac8163-7805-4438-9c55-c3272c0163e9"
      },
      "execution_count": null,
      "outputs": [
        {
          "output_type": "execute_result",
          "data": {
            "text/plain": [
              "({'max_depth': 19, 'max_features': 14}, 0.5670356703567035)"
            ]
          },
          "metadata": {},
          "execution_count": 28
        }
      ]
    },
    {
      "cell_type": "code",
      "source": [
        "print(classification_report(y_test, forest_grid.predict(X_test_scaled)))"
      ],
      "metadata": {
        "id": "87ThwmLMl8sB",
        "colab": {
          "base_uri": "https://localhost:8080/"
        },
        "outputId": "979b6c2f-e519-479d-89bf-cefc1689fcce"
      },
      "execution_count": null,
      "outputs": [
        {
          "output_type": "stream",
          "name": "stdout",
          "text": [
            "              precision    recall  f1-score   support\n",
            "\n",
            "           0       0.00      0.00      0.00         4\n",
            "           1       0.50      0.13      0.21        15\n",
            "           5       0.00      0.00      0.00        15\n",
            "          10       0.34      0.39      0.36        89\n",
            "          50       0.05      0.02      0.03        51\n",
            "         100       0.45      0.58      0.51       178\n",
            "         500       0.18      0.06      0.09        83\n",
            "        1000       0.50      0.65      0.56       229\n",
            "        5000       0.43      0.14      0.22       132\n",
            "       10000       0.60      0.73      0.66       279\n",
            "       50000       0.43      0.16      0.24       116\n",
            "      100000       0.56      0.76      0.64       282\n",
            "      500000       0.49      0.19      0.27       131\n",
            "     1000000       0.64      0.82      0.72       395\n",
            "     5000000       0.67      0.42      0.52       186\n",
            "    10000000       0.75      0.83      0.78       329\n",
            "    50000000       0.77      0.55      0.64        65\n",
            "   100000000       0.90      0.88      0.89        96\n",
            "   500000000       1.00      0.87      0.93        15\n",
            "  1000000000       1.00      0.95      0.97        20\n",
            "\n",
            "    accuracy                           0.59      2710\n",
            "   macro avg       0.51      0.46      0.46      2710\n",
            "weighted avg       0.57      0.59      0.56      2710\n",
            "\n"
          ]
        }
      ]
    },
    {
      "cell_type": "markdown",
      "source": [
        "Таким образом, наибольшей точности предсказания получилось достичь при использовании RandomForestClassifier. Самый худший результат показал KNeighborsClassifier."
      ],
      "metadata": {
        "id": "sKWS1OaD-5Pq"
      }
    }
  ]
}