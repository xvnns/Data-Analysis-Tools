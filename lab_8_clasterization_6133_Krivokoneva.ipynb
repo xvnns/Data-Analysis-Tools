{
  "nbformat": 4,
  "nbformat_minor": 0,
  "metadata": {
    "colab": {
      "name": "lab_8_clasterization_6133_Krivokoneva",
      "provenance": [],
      "collapsed_sections": []
    },
    "kernelspec": {
      "name": "python3",
      "display_name": "Python 3"
    },
    "language_info": {
      "name": "python"
    }
  },
  "cells": [
    {
      "cell_type": "markdown",
      "source": [
        "# Лабораторная работа 8\n",
        "Кластеризация\n",
        "\n",
        "Выполнила: Кривоконева Екатерина, группа 6133"
      ],
      "metadata": {
        "id": "qeCvqgxP_ik6"
      }
    },
    {
      "cell_type": "code",
      "source": [
        "import pandas as pd\n",
        "import numpy as np\n",
        "import matplotlib.pyplot as plt\n",
        "import scipy.cluster.hierarchy as shc\n",
        "\n",
        "from sklearn.cluster import KMeans\n",
        "from sklearn.metrics import adjusted_rand_score\n",
        "from sklearn.metrics import adjusted_mutual_info_score\n",
        "from sklearn.metrics import homogeneity_score\n",
        "from sklearn.metrics import completeness_score\n",
        "from sklearn.metrics import v_measure_score\n",
        "from sklearn.metrics import silhouette_score\n",
        "from sklearn.preprocessing import StandardScaler\n",
        "from scipy.cluster.hierarchy import linkage\n",
        "from scipy.cluster.hierarchy import dendrogram\n",
        "from tqdm import tqdm\n",
        "\n",
        "import warnings\n",
        "import sys  \n",
        "warnings.simplefilter(\"ignore\")"
      ],
      "metadata": {
        "id": "weJgCtiLCEiu"
      },
      "execution_count": 1,
      "outputs": []
    },
    {
      "cell_type": "markdown",
      "source": [
        "## 0 Найти датасет для кластеризации"
      ],
      "metadata": {
        "id": "tKO3kkTU_0-L"
      }
    },
    {
      "cell_type": "markdown",
      "source": [
        "Датасет: https://www.kaggle.com/datasets/fedesoriano/stroke-prediction-dataset\n"
      ],
      "metadata": {
        "id": "IBouxGdG887c"
      }
    },
    {
      "cell_type": "markdown",
      "source": [
        "Числовые признаки:\n",
        "\n",
        "- id - Unique id\n",
        "- age - Age\n",
        "- hypertension - Hypertension binary feature\n",
        "- heart_disease - Heart disease binary feature\n",
        "- avg_glucose_level - Average glucose level in blood\n",
        "- bmi - Body Mass Index\n",
        "- stroke - Stroke event\n",
        "\n",
        "Категориальные признаки:\n",
        "\n",
        "- gender - Gender\n",
        "- work_type - Work type of the patient\n",
        "- Residence_type - Residence type of the patient\n",
        "- smoking_status - Smoking status of the patient\n",
        "\n",
        "Бинарные признаки:\n",
        "\n",
        "- ever_married - Has the patient ever been married? (true/false)\n"
      ],
      "metadata": {
        "id": "nePhRZQs9GcU"
      }
    },
    {
      "cell_type": "code",
      "source": [
        "data = pd.read_csv('data/healthcare-dataset-stroke-data.csv')\n",
        "data.head(5)"
      ],
      "metadata": {
        "colab": {
          "base_uri": "https://localhost:8080/",
          "height": 206
        },
        "id": "QSF3b3RLACsp",
        "outputId": "efaeee14-2fe1-41a2-c52d-83fc526d3c7e"
      },
      "execution_count": 2,
      "outputs": [
        {
          "output_type": "execute_result",
          "data": {
            "text/plain": [
              "      id  gender   age  hypertension  heart_disease ever_married  \\\n",
              "0   9046    Male  67.0             0              1          Yes   \n",
              "1  51676  Female  61.0             0              0          Yes   \n",
              "2  31112    Male  80.0             0              1          Yes   \n",
              "3  60182  Female  49.0             0              0          Yes   \n",
              "4   1665  Female  79.0             1              0          Yes   \n",
              "\n",
              "       work_type Residence_type  avg_glucose_level   bmi   smoking_status  \\\n",
              "0        Private          Urban             228.69  36.6  formerly smoked   \n",
              "1  Self-employed          Rural             202.21   NaN     never smoked   \n",
              "2        Private          Rural             105.92  32.5     never smoked   \n",
              "3        Private          Urban             171.23  34.4           smokes   \n",
              "4  Self-employed          Rural             174.12  24.0     never smoked   \n",
              "\n",
              "   stroke  \n",
              "0       1  \n",
              "1       1  \n",
              "2       1  \n",
              "3       1  \n",
              "4       1  "
            ],
            "text/html": [
              "\n",
              "  <div id=\"df-9d9e2d47-0266-488b-a5c7-2897d5a59128\">\n",
              "    <div class=\"colab-df-container\">\n",
              "      <div>\n",
              "<style scoped>\n",
              "    .dataframe tbody tr th:only-of-type {\n",
              "        vertical-align: middle;\n",
              "    }\n",
              "\n",
              "    .dataframe tbody tr th {\n",
              "        vertical-align: top;\n",
              "    }\n",
              "\n",
              "    .dataframe thead th {\n",
              "        text-align: right;\n",
              "    }\n",
              "</style>\n",
              "<table border=\"1\" class=\"dataframe\">\n",
              "  <thead>\n",
              "    <tr style=\"text-align: right;\">\n",
              "      <th></th>\n",
              "      <th>id</th>\n",
              "      <th>gender</th>\n",
              "      <th>age</th>\n",
              "      <th>hypertension</th>\n",
              "      <th>heart_disease</th>\n",
              "      <th>ever_married</th>\n",
              "      <th>work_type</th>\n",
              "      <th>Residence_type</th>\n",
              "      <th>avg_glucose_level</th>\n",
              "      <th>bmi</th>\n",
              "      <th>smoking_status</th>\n",
              "      <th>stroke</th>\n",
              "    </tr>\n",
              "  </thead>\n",
              "  <tbody>\n",
              "    <tr>\n",
              "      <th>0</th>\n",
              "      <td>9046</td>\n",
              "      <td>Male</td>\n",
              "      <td>67.0</td>\n",
              "      <td>0</td>\n",
              "      <td>1</td>\n",
              "      <td>Yes</td>\n",
              "      <td>Private</td>\n",
              "      <td>Urban</td>\n",
              "      <td>228.69</td>\n",
              "      <td>36.6</td>\n",
              "      <td>formerly smoked</td>\n",
              "      <td>1</td>\n",
              "    </tr>\n",
              "    <tr>\n",
              "      <th>1</th>\n",
              "      <td>51676</td>\n",
              "      <td>Female</td>\n",
              "      <td>61.0</td>\n",
              "      <td>0</td>\n",
              "      <td>0</td>\n",
              "      <td>Yes</td>\n",
              "      <td>Self-employed</td>\n",
              "      <td>Rural</td>\n",
              "      <td>202.21</td>\n",
              "      <td>NaN</td>\n",
              "      <td>never smoked</td>\n",
              "      <td>1</td>\n",
              "    </tr>\n",
              "    <tr>\n",
              "      <th>2</th>\n",
              "      <td>31112</td>\n",
              "      <td>Male</td>\n",
              "      <td>80.0</td>\n",
              "      <td>0</td>\n",
              "      <td>1</td>\n",
              "      <td>Yes</td>\n",
              "      <td>Private</td>\n",
              "      <td>Rural</td>\n",
              "      <td>105.92</td>\n",
              "      <td>32.5</td>\n",
              "      <td>never smoked</td>\n",
              "      <td>1</td>\n",
              "    </tr>\n",
              "    <tr>\n",
              "      <th>3</th>\n",
              "      <td>60182</td>\n",
              "      <td>Female</td>\n",
              "      <td>49.0</td>\n",
              "      <td>0</td>\n",
              "      <td>0</td>\n",
              "      <td>Yes</td>\n",
              "      <td>Private</td>\n",
              "      <td>Urban</td>\n",
              "      <td>171.23</td>\n",
              "      <td>34.4</td>\n",
              "      <td>smokes</td>\n",
              "      <td>1</td>\n",
              "    </tr>\n",
              "    <tr>\n",
              "      <th>4</th>\n",
              "      <td>1665</td>\n",
              "      <td>Female</td>\n",
              "      <td>79.0</td>\n",
              "      <td>1</td>\n",
              "      <td>0</td>\n",
              "      <td>Yes</td>\n",
              "      <td>Self-employed</td>\n",
              "      <td>Rural</td>\n",
              "      <td>174.12</td>\n",
              "      <td>24.0</td>\n",
              "      <td>never smoked</td>\n",
              "      <td>1</td>\n",
              "    </tr>\n",
              "  </tbody>\n",
              "</table>\n",
              "</div>\n",
              "      <button class=\"colab-df-convert\" onclick=\"convertToInteractive('df-9d9e2d47-0266-488b-a5c7-2897d5a59128')\"\n",
              "              title=\"Convert this dataframe to an interactive table.\"\n",
              "              style=\"display:none;\">\n",
              "        \n",
              "  <svg xmlns=\"http://www.w3.org/2000/svg\" height=\"24px\"viewBox=\"0 0 24 24\"\n",
              "       width=\"24px\">\n",
              "    <path d=\"M0 0h24v24H0V0z\" fill=\"none\"/>\n",
              "    <path d=\"M18.56 5.44l.94 2.06.94-2.06 2.06-.94-2.06-.94-.94-2.06-.94 2.06-2.06.94zm-11 1L8.5 8.5l.94-2.06 2.06-.94-2.06-.94L8.5 2.5l-.94 2.06-2.06.94zm10 10l.94 2.06.94-2.06 2.06-.94-2.06-.94-.94-2.06-.94 2.06-2.06.94z\"/><path d=\"M17.41 7.96l-1.37-1.37c-.4-.4-.92-.59-1.43-.59-.52 0-1.04.2-1.43.59L10.3 9.45l-7.72 7.72c-.78.78-.78 2.05 0 2.83L4 21.41c.39.39.9.59 1.41.59.51 0 1.02-.2 1.41-.59l7.78-7.78 2.81-2.81c.8-.78.8-2.07 0-2.86zM5.41 20L4 18.59l7.72-7.72 1.47 1.35L5.41 20z\"/>\n",
              "  </svg>\n",
              "      </button>\n",
              "      \n",
              "  <style>\n",
              "    .colab-df-container {\n",
              "      display:flex;\n",
              "      flex-wrap:wrap;\n",
              "      gap: 12px;\n",
              "    }\n",
              "\n",
              "    .colab-df-convert {\n",
              "      background-color: #E8F0FE;\n",
              "      border: none;\n",
              "      border-radius: 50%;\n",
              "      cursor: pointer;\n",
              "      display: none;\n",
              "      fill: #1967D2;\n",
              "      height: 32px;\n",
              "      padding: 0 0 0 0;\n",
              "      width: 32px;\n",
              "    }\n",
              "\n",
              "    .colab-df-convert:hover {\n",
              "      background-color: #E2EBFA;\n",
              "      box-shadow: 0px 1px 2px rgba(60, 64, 67, 0.3), 0px 1px 3px 1px rgba(60, 64, 67, 0.15);\n",
              "      fill: #174EA6;\n",
              "    }\n",
              "\n",
              "    [theme=dark] .colab-df-convert {\n",
              "      background-color: #3B4455;\n",
              "      fill: #D2E3FC;\n",
              "    }\n",
              "\n",
              "    [theme=dark] .colab-df-convert:hover {\n",
              "      background-color: #434B5C;\n",
              "      box-shadow: 0px 1px 3px 1px rgba(0, 0, 0, 0.15);\n",
              "      filter: drop-shadow(0px 1px 2px rgba(0, 0, 0, 0.3));\n",
              "      fill: #FFFFFF;\n",
              "    }\n",
              "  </style>\n",
              "\n",
              "      <script>\n",
              "        const buttonEl =\n",
              "          document.querySelector('#df-9d9e2d47-0266-488b-a5c7-2897d5a59128 button.colab-df-convert');\n",
              "        buttonEl.style.display =\n",
              "          google.colab.kernel.accessAllowed ? 'block' : 'none';\n",
              "\n",
              "        async function convertToInteractive(key) {\n",
              "          const element = document.querySelector('#df-9d9e2d47-0266-488b-a5c7-2897d5a59128');\n",
              "          const dataTable =\n",
              "            await google.colab.kernel.invokeFunction('convertToInteractive',\n",
              "                                                     [key], {});\n",
              "          if (!dataTable) return;\n",
              "\n",
              "          const docLinkHtml = 'Like what you see? Visit the ' +\n",
              "            '<a target=\"_blank\" href=https://colab.research.google.com/notebooks/data_table.ipynb>data table notebook</a>'\n",
              "            + ' to learn more about interactive tables.';\n",
              "          element.innerHTML = '';\n",
              "          dataTable['output_type'] = 'display_data';\n",
              "          await google.colab.output.renderOutput(dataTable, element);\n",
              "          const docLink = document.createElement('div');\n",
              "          docLink.innerHTML = docLinkHtml;\n",
              "          element.appendChild(docLink);\n",
              "        }\n",
              "      </script>\n",
              "    </div>\n",
              "  </div>\n",
              "  "
            ]
          },
          "metadata": {},
          "execution_count": 2
        }
      ]
    },
    {
      "cell_type": "code",
      "source": [
        "data.isnull().sum()"
      ],
      "metadata": {
        "colab": {
          "base_uri": "https://localhost:8080/"
        },
        "id": "G9SAGlBg9MzA",
        "outputId": "abb454fa-a94c-40ec-ead5-5ba9d000d861"
      },
      "execution_count": 3,
      "outputs": [
        {
          "output_type": "execute_result",
          "data": {
            "text/plain": [
              "id                     0\n",
              "gender                 0\n",
              "age                    0\n",
              "hypertension           0\n",
              "heart_disease          0\n",
              "ever_married           0\n",
              "work_type              0\n",
              "Residence_type         0\n",
              "avg_glucose_level      0\n",
              "bmi                  201\n",
              "smoking_status         0\n",
              "stroke                 0\n",
              "dtype: int64"
            ]
          },
          "metadata": {},
          "execution_count": 3
        }
      ]
    },
    {
      "cell_type": "code",
      "source": [
        "# A really fantsatic and intelligent way to deal with blanks, from Thoman Konstantin in: https://www.kaggle.com/thomaskonstantin/analyzing-and-modeling-stroke-data\n",
        "\n",
        "from sklearn.pipeline import Pipeline\n",
        "from sklearn.tree import DecisionTreeRegressor\n",
        "\n",
        "DT_bmi_pipe = Pipeline( steps=[\n",
        "                               ('scale',StandardScaler()),\n",
        "                               ('lr',DecisionTreeRegressor(random_state=42))\n",
        "                              ])\n",
        "X = data[['age', 'gender', 'bmi']].copy()\n",
        "X.gender = X.gender.replace({'Male':0, 'Female':1, 'Other':-1}).astype(np.uint8)\n",
        "\n",
        "Missing = X[X.bmi.isna()]\n",
        "X = X[~X.bmi.isna()]\n",
        "Y = X.pop('bmi')\n",
        "DT_bmi_pipe.fit(X,Y)\n",
        "predicted_bmi = pd.Series(DT_bmi_pipe.predict(Missing[['age', 'gender']]),index=Missing.index)\n",
        "data.loc[Missing.index,'bmi'] = predicted_bmi"
      ],
      "metadata": {
        "id": "B-5Eghtq9QHh"
      },
      "execution_count": 4,
      "outputs": []
    },
    {
      "cell_type": "code",
      "source": [
        "print('Missing values: ', sum(data.isnull().sum()))"
      ],
      "metadata": {
        "colab": {
          "base_uri": "https://localhost:8080/"
        },
        "id": "9uDFNQ8L9XWa",
        "outputId": "8c144525-6e27-485a-8dc8-01dc29b18db8"
      },
      "execution_count": 5,
      "outputs": [
        {
          "output_type": "stream",
          "name": "stdout",
          "text": [
            "Missing values:  0\n"
          ]
        }
      ]
    },
    {
      "cell_type": "code",
      "source": [
        "data.info()"
      ],
      "metadata": {
        "colab": {
          "base_uri": "https://localhost:8080/"
        },
        "id": "k1dttZvq-B0i",
        "outputId": "fe062cd0-04b3-42c2-e032-19dbce6d9ebd"
      },
      "execution_count": 6,
      "outputs": [
        {
          "output_type": "stream",
          "name": "stdout",
          "text": [
            "<class 'pandas.core.frame.DataFrame'>\n",
            "RangeIndex: 5110 entries, 0 to 5109\n",
            "Data columns (total 12 columns):\n",
            " #   Column             Non-Null Count  Dtype  \n",
            "---  ------             --------------  -----  \n",
            " 0   id                 5110 non-null   int64  \n",
            " 1   gender             5110 non-null   object \n",
            " 2   age                5110 non-null   float64\n",
            " 3   hypertension       5110 non-null   int64  \n",
            " 4   heart_disease      5110 non-null   int64  \n",
            " 5   ever_married       5110 non-null   object \n",
            " 6   work_type          5110 non-null   object \n",
            " 7   Residence_type     5110 non-null   object \n",
            " 8   avg_glucose_level  5110 non-null   float64\n",
            " 9   bmi                5110 non-null   float64\n",
            " 10  smoking_status     5110 non-null   object \n",
            " 11  stroke             5110 non-null   int64  \n",
            "dtypes: float64(3), int64(4), object(5)\n",
            "memory usage: 479.2+ KB\n"
          ]
        }
      ]
    },
    {
      "cell_type": "markdown",
      "source": [
        "Преобразуем категориальные признаки в бинарные:"
      ],
      "metadata": {
        "id": "dTYFhKEqoNYb"
      }
    },
    {
      "cell_type": "code",
      "source": [
        "data.gender = data.gender.replace({'Male':0, 'Female':1, 'Other':-1}).astype(np.uint8)\n",
        "data.Residence_type = data.Residence_type.replace({'Urban':0, 'Rural':1}).astype(np.uint8)\n",
        "data.ever_married = data.ever_married.replace(['No', 'Yes'], [0, 1])\n",
        "data['smoking_status'] = data['smoking_status'].astype('category').cat.codes\n",
        "data['work_type'] = data['work_type'].astype('category').cat.codes"
      ],
      "metadata": {
        "id": "30ejmIfkVlRV"
      },
      "execution_count": 7,
      "outputs": []
    },
    {
      "cell_type": "code",
      "source": [
        "features, target = data.drop('work_type', axis=1), data.work_type"
      ],
      "metadata": {
        "id": "mI9DyZs6cvW0"
      },
      "execution_count": 8,
      "outputs": []
    },
    {
      "cell_type": "markdown",
      "source": [
        "## 1 Выполните иерархическую агломеративную кластеризацию (scipy.cluster.hierarchy), постройте график-дендрограмму (hierarchy.dendrogram)"
      ],
      "metadata": {
        "id": "SFYxPotUAOBV"
      }
    },
    {
      "cell_type": "code",
      "source": [
        "features_c = features.iloc[:300]\n",
        "target_c = target.iloc[:300]"
      ],
      "metadata": {
        "id": "aQkLl3d7aOhh"
      },
      "execution_count": 9,
      "outputs": []
    },
    {
      "cell_type": "code",
      "source": [
        "plt.figure(figsize=(15, 7))  \n",
        "plt.title(\"Dendrograms\") \n",
        "\n",
        "clusters = shc.linkage(features_c, 'ward')\n",
        "dend =  shc.dendrogram(clusters,             \n",
        "                       distance_sort='descending',\n",
        "                       show_leaf_counts=True)"
      ],
      "metadata": {
        "colab": {
          "base_uri": "https://localhost:8080/",
          "height": 444
        },
        "id": "KYItawXta3RU",
        "outputId": "8dbae847-6650-4543-d5b7-791b90dc5b6d"
      },
      "execution_count": 10,
      "outputs": [
        {
          "output_type": "display_data",
          "data": {
            "text/plain": [
              "<Figure size 1080x504 with 1 Axes>"
            ],
            "image/png": "[encoded data removed]"
          },
          "metadata": {
            "needs_background": "light"
          }
        }
      ]
    },
    {
      "cell_type": "markdown",
      "source": [
        "## 2 На том же датасете выподните кластеризацию, используя любой другой метод кластеризации (пока с произвольными гиперпараметрами)"
      ],
      "metadata": {
        "id": "6F2Ri5oYAVgx"
      }
    },
    {
      "cell_type": "code",
      "source": [
        "kmean_cluster = KMeans(n_clusters=5, random_state=42)\n",
        "cluster_labels = kmean_cluster.fit_predict(features_c)"
      ],
      "metadata": {
        "id": "X5a9fvPYcBz_"
      },
      "execution_count": 11,
      "outputs": []
    },
    {
      "cell_type": "code",
      "source": [
        "print(\n",
        "    \"ARI:\", adjusted_rand_score(target_c, cluster_labels),\n",
        "    \"\\nAMI:\", adjusted_mutual_info_score(target_c, cluster_labels),\n",
        "    \"\\nHomogeneity:\", homogeneity_score(target_c, cluster_labels),\n",
        "    \"\\nCompleteness:\", completeness_score(target_c, cluster_labels),\n",
        "    \"\\nV-measure:\", v_measure_score(target_c, cluster_labels),\n",
        "    \"\\nSilhouette:\", silhouette_score(features_c, cluster_labels)\n",
        "    )"
      ],
      "metadata": {
        "colab": {
          "base_uri": "https://localhost:8080/"
        },
        "id": "4Y4HhIJWdOAF",
        "outputId": "bbc03dfe-fa8d-4760-e3dd-264d07199def"
      },
      "execution_count": 12,
      "outputs": [
        {
          "output_type": "stream",
          "name": "stdout",
          "text": [
            "ARI: -0.0015232319979556891 \n",
            "AMI: 0.004375963045966295 \n",
            "Homogeneity: 0.0321117220468154 \n",
            "Completeness: 0.02041592317446011 \n",
            "V-measure: 0.024961730058360332 \n",
            "Silhouette: 0.5666922850167203\n"
          ]
        }
      ]
    },
    {
      "cell_type": "markdown",
      "source": [
        "## 3 Выполните оптимизацию гиперпараметров кластеризации"
      ],
      "metadata": {
        "id": "OLEUI8tOAX2L"
      }
    },
    {
      "cell_type": "markdown",
      "source": [
        "В качестве настраиаемого гиперпараметра будет использован n_clusters. Метрика для оптимизации - ARI."
      ],
      "metadata": {
        "id": "qLk2ir1vjIQV"
      }
    },
    {
      "cell_type": "code",
      "source": [
        "n_clusters = [*range(2,21,1)]"
      ],
      "metadata": {
        "id": "imx4JhNOdz_n"
      },
      "execution_count": 13,
      "outputs": []
    },
    {
      "cell_type": "code",
      "source": [
        "ari_scores = []\n",
        "for _, cluster in tqdm(enumerate(n_clusters)):\n",
        "  clusterer = KMeans(n_clusters=cluster, random_state=0)\n",
        "  cluster_labels = clusterer.fit_predict(features_c)\n",
        "  ari_scores.append(adjusted_rand_score(target_c, cluster_labels))"
      ],
      "metadata": {
        "colab": {
          "base_uri": "https://localhost:8080/"
        },
        "id": "VYpIO8_ajkTI",
        "outputId": "0c40b716-dde1-494f-d591-3ebecb8ad2c6"
      },
      "execution_count": 14,
      "outputs": [
        {
          "output_type": "stream",
          "name": "stderr",
          "text": [
            "19it [00:11,  1.64it/s]\n"
          ]
        }
      ]
    },
    {
      "cell_type": "code",
      "source": [
        "idx_max = ari_scores.index(max(ari_scores))\n",
        "print('Лучшее значение ARI: ', ari_scores[idx_max])"
      ],
      "metadata": {
        "colab": {
          "base_uri": "https://localhost:8080/"
        },
        "id": "f9Gvmbs0jwtH",
        "outputId": "7862201e-69aa-4616-ef84-f1e5ac078870"
      },
      "execution_count": 15,
      "outputs": [
        {
          "output_type": "stream",
          "name": "stdout",
          "text": [
            "Лучшее значение ARI:  0.0025909917541340225\n"
          ]
        }
      ]
    },
    {
      "cell_type": "code",
      "source": [
        "# посмотрим также чему равны другие метрики\n",
        "\n",
        "kmean_cluster = KMeans(n_clusters=n_clusters[idx_max], random_state=0)\n",
        "cluster_labels = kmean_cluster.fit_predict(features_c)\n",
        "\n",
        "print(\n",
        "    \"AMI:\", adjusted_mutual_info_score(target_c, cluster_labels),\n",
        "    \"\\nHomogeneity:\", homogeneity_score(target_c, cluster_labels),\n",
        "    \"\\nCompleteness:\", completeness_score(target_c, cluster_labels),\n",
        "    \"\\nV-measure:\", v_measure_score(target_c, cluster_labels),\n",
        "    \"\\nSilhouette:\", silhouette_score(features_c, cluster_labels)\n",
        "    )"
      ],
      "metadata": {
        "colab": {
          "base_uri": "https://localhost:8080/"
        },
        "id": "DqtwyX2sJWlk",
        "outputId": "c59f85b8-3af6-44e5-cea6-1888958d0f7f"
      },
      "execution_count": 16,
      "outputs": [
        {
          "output_type": "stream",
          "name": "stdout",
          "text": [
            "AMI: 0.010795078524097175 \n",
            "Homogeneity: 0.07817516971005188 \n",
            "Completeness: 0.033368960404469204 \n",
            "V-measure: 0.04677295237300496 \n",
            "Silhouette: 0.5582326698074817\n"
          ]
        }
      ]
    },
    {
      "cell_type": "markdown",
      "source": [
        "## 4 Используя алгоритм/модель из п. 2 выполните оптимизацию гиперпараметра количества кластеров, используя \"правило локтя\" (анализируем график силуэта)"
      ],
      "metadata": {
        "id": "80hpG-MiAb08"
      }
    },
    {
      "cell_type": "code",
      "source": [
        "scores = []\n",
        "for _, cluster in tqdm(enumerate(n_clusters)):\n",
        "    clusters = KMeans(n_clusters=cluster, random_state=42).fit_predict(features)\n",
        "    scores.append(silhouette_score(features, clusters))"
      ],
      "metadata": {
        "colab": {
          "base_uri": "https://localhost:8080/"
        },
        "id": "omoiq1bKkHvV",
        "outputId": "ee140761-0918-4083-eaa7-6c28426609a7"
      },
      "execution_count": 17,
      "outputs": [
        {
          "output_type": "stream",
          "name": "stderr",
          "text": [
            "19it [00:27,  1.44s/it]\n"
          ]
        }
      ]
    },
    {
      "cell_type": "code",
      "source": [
        "fig, ax = plt.subplots(figsize=(10,7))\n",
        "ax.plot(n_clusters, scores)\n",
        "ax.set(title='График силуэтов', xlabel='n_clusters', ylabel='silhouette score')\n",
        "ax.set_xticks(n_clusters)\n",
        "ax.grid()\n",
        "plt.show()"
      ],
      "metadata": {
        "colab": {
          "base_uri": "https://localhost:8080/",
          "height": 459
        },
        "id": "mMUJqtvEkNEP",
        "outputId": "3f9fe3a3-6c71-404b-81f3-a53d3e8f61cb"
      },
      "execution_count": 21,
      "outputs": [
        {
          "output_type": "display_data",
          "data": {
            "text/plain": [
              "<Figure size 720x504 with 1 Axes>"
            ],
            "image/png": "[encoded data removed]"
          },
          "metadata": {
            "needs_background": "light"
          }
        }
      ]
    },
    {
      "cell_type": "markdown",
      "source": [
        "Заметный перелом графика произошел при n_clusters = 6."
      ],
      "metadata": {
        "id": "Eks12uPFGCtB"
      }
    }
  ]
}